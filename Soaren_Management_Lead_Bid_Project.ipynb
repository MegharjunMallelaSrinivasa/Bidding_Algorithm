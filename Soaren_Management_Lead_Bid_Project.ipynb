{
 "cells": [
  {
   "cell_type": "code",
   "execution_count": 689,
   "metadata": {},
   "outputs": [],
   "source": [
    "import pandas as pd\n",
    "import numpy as np\n",
    "import seaborn as sns\n",
    "import matplotlib.pyplot as plt\n",
    "from sklearn.metrics import confusion_matrix\n",
    "from sklearn.metrics import plot_confusion_matrix\n",
    "from sklearn.metrics import recall_score\n",
    "from sklearn.metrics import precision_score\n",
    "from sklearn.metrics import accuracy_score\n",
    "from sklearn.linear_model import LogisticRegression\n",
    "from sklearn.tree import DecisionTreeClassifier\n",
    "from sklearn.metrics import f1_score\n",
    "from sklearn.ensemble import RandomForestClassifier\n",
    "from sklearn.neighbors import KNeighborsClassifier\n",
    "from sklearn import svm\n",
    "from sklearn.neural_network import MLPClassifier\n",
    "from sklearn.naive_bayes import GaussianNB\n",
    "from sklearn.ensemble import AdaBoostClassifier"
   ]
  },
  {
   "cell_type": "code",
   "execution_count": 690,
   "metadata": {},
   "outputs": [],
   "source": [
    "#Loading the dataset into Lead_Bid\n",
    "Lead_Bid = pd.read_csv(r'C:\\Users\\Megharjun\\Desktop\\Megha\\Soaren_Management_Lead_Bid_Test_Data.csv')"
   ]
  },
  {
   "cell_type": "code",
   "execution_count": 691,
   "metadata": {},
   "outputs": [
    {
     "name": "stdout",
     "output_type": "stream",
     "text": [
      "Number of records: 53950\n",
      "Number of variables: 5\n"
     ]
    },
    {
     "data": {
      "text/html": [
       "<div>\n",
       "<style scoped>\n",
       "    .dataframe tbody tr th:only-of-type {\n",
       "        vertical-align: middle;\n",
       "    }\n",
       "\n",
       "    .dataframe tbody tr th {\n",
       "        vertical-align: top;\n",
       "    }\n",
       "\n",
       "    .dataframe thead th {\n",
       "        text-align: right;\n",
       "    }\n",
       "</style>\n",
       "<table border=\"1\" class=\"dataframe\">\n",
       "  <thead>\n",
       "    <tr style=\"text-align: right;\">\n",
       "      <th></th>\n",
       "      <th>id</th>\n",
       "      <th>BidPrice</th>\n",
       "      <th>AcceptedBid</th>\n",
       "      <th>ExpectedRevenue</th>\n",
       "      <th>ExpectedConversion</th>\n",
       "    </tr>\n",
       "  </thead>\n",
       "  <tbody>\n",
       "    <tr>\n",
       "      <th>0</th>\n",
       "      <td>58995330</td>\n",
       "      <td>NaN</td>\n",
       "      <td>0</td>\n",
       "      <td>-106.80</td>\n",
       "      <td>0.336</td>\n",
       "    </tr>\n",
       "    <tr>\n",
       "      <th>1</th>\n",
       "      <td>58995358</td>\n",
       "      <td>NaN</td>\n",
       "      <td>0</td>\n",
       "      <td>-43.12</td>\n",
       "      <td>0.219</td>\n",
       "    </tr>\n",
       "    <tr>\n",
       "      <th>2</th>\n",
       "      <td>58995397</td>\n",
       "      <td>NaN</td>\n",
       "      <td>0</td>\n",
       "      <td>-90.56</td>\n",
       "      <td>0.332</td>\n",
       "    </tr>\n",
       "    <tr>\n",
       "      <th>3</th>\n",
       "      <td>58995410</td>\n",
       "      <td>NaN</td>\n",
       "      <td>0</td>\n",
       "      <td>-82.08</td>\n",
       "      <td>0.308</td>\n",
       "    </tr>\n",
       "    <tr>\n",
       "      <th>4</th>\n",
       "      <td>58995635</td>\n",
       "      <td>NaN</td>\n",
       "      <td>0</td>\n",
       "      <td>94.88</td>\n",
       "      <td>0.321</td>\n",
       "    </tr>\n",
       "    <tr>\n",
       "      <th>5</th>\n",
       "      <td>58995654</td>\n",
       "      <td>NaN</td>\n",
       "      <td>0</td>\n",
       "      <td>19.68</td>\n",
       "      <td>0.518</td>\n",
       "    </tr>\n",
       "    <tr>\n",
       "      <th>6</th>\n",
       "      <td>58995685</td>\n",
       "      <td>NaN</td>\n",
       "      <td>0</td>\n",
       "      <td>-59.92</td>\n",
       "      <td>0.403</td>\n",
       "    </tr>\n",
       "    <tr>\n",
       "      <th>7</th>\n",
       "      <td>58995772</td>\n",
       "      <td>NaN</td>\n",
       "      <td>0</td>\n",
       "      <td>49.92</td>\n",
       "      <td>0.522</td>\n",
       "    </tr>\n",
       "    <tr>\n",
       "      <th>8</th>\n",
       "      <td>58995792</td>\n",
       "      <td>35.0</td>\n",
       "      <td>0</td>\n",
       "      <td>360.67</td>\n",
       "      <td>0.086</td>\n",
       "    </tr>\n",
       "    <tr>\n",
       "      <th>9</th>\n",
       "      <td>58995977</td>\n",
       "      <td>35.0</td>\n",
       "      <td>1</td>\n",
       "      <td>271.49</td>\n",
       "      <td>0.356</td>\n",
       "    </tr>\n",
       "  </tbody>\n",
       "</table>\n",
       "</div>"
      ],
      "text/plain": [
       "         id  BidPrice  AcceptedBid  ExpectedRevenue  ExpectedConversion\n",
       "0  58995330       NaN            0          -106.80               0.336\n",
       "1  58995358       NaN            0           -43.12               0.219\n",
       "2  58995397       NaN            0           -90.56               0.332\n",
       "3  58995410       NaN            0           -82.08               0.308\n",
       "4  58995635       NaN            0            94.88               0.321\n",
       "5  58995654       NaN            0            19.68               0.518\n",
       "6  58995685       NaN            0           -59.92               0.403\n",
       "7  58995772       NaN            0            49.92               0.522\n",
       "8  58995792      35.0            0           360.67               0.086\n",
       "9  58995977      35.0            1           271.49               0.356"
      ]
     },
     "execution_count": 691,
     "metadata": {},
     "output_type": "execute_result"
    }
   ],
   "source": [
    "#printing the number of records and the head of the dataframe\n",
    "print(\"Number of records: {}\\nNumber of variables: {}\".format(Lead_Bid.shape[0], Lead_Bid.shape[1]))\n",
    "Lead_Bid.head(10)"
   ]
  },
  {
   "cell_type": "code",
   "execution_count": 692,
   "metadata": {},
   "outputs": [],
   "source": [
    "#Making a copy of the original data set\n",
    "New_Lead_Bid = Lead_Bid.copy()"
   ]
  },
  {
   "cell_type": "markdown",
   "metadata": {},
   "source": [
    "# Data Cleaning and Visualization of New_Lead_Bid "
   ]
  },
  {
   "cell_type": "code",
   "execution_count": 693,
   "metadata": {},
   "outputs": [
    {
     "data": {
      "text/plain": [
       "<matplotlib.axes._subplots.AxesSubplot at 0x2921355ba58>"
      ]
     },
     "execution_count": 693,
     "metadata": {},
     "output_type": "execute_result"
    },
    {
     "data": {
      "image/png": "[encoded data removed]",
      "text/plain": [
       "<Figure size 432x288 with 2 Axes>"
      ]
     },
     "metadata": {
      "needs_background": "light"
     },
     "output_type": "display_data"
    }
   ],
   "source": [
    "#Finding Null Values using heatmap\n",
    "sns.heatmap(New_Lead_Bid.isnull(), cmap ='viridis')"
   ]
  },
  {
   "cell_type": "code",
   "execution_count": 694,
   "metadata": {},
   "outputs": [
    {
     "data": {
      "text/plain": [
       "id                    0\n",
       "BidPrice              0\n",
       "AcceptedBid           0\n",
       "ExpectedRevenue       0\n",
       "ExpectedConversion    0\n",
       "dtype: int64"
      ]
     },
     "execution_count": 694,
     "metadata": {},
     "output_type": "execute_result"
    }
   ],
   "source": [
    "#Since only BidPrice has null values we are droping all the rows in bid price containing null values\n",
    "New_Lead_Bid = New_Lead_Bid.dropna(axis=0)\n",
    "New_Lead_Bid.isnull().sum()"
   ]
  },
  {
   "cell_type": "code",
   "execution_count": 695,
   "metadata": {},
   "outputs": [
    {
     "data": {
      "text/plain": [
       "<matplotlib.axes._subplots.AxesSubplot at 0x292136385c0>"
      ]
     },
     "execution_count": 695,
     "metadata": {},
     "output_type": "execute_result"
    },
    {
     "data": {
      "image/png": "[encoded data removed]",
      "text/plain": [
       "<Figure size 432x288 with 2 Axes>"
      ]
     },
     "metadata": {
      "needs_background": "light"
     },
     "output_type": "display_data"
    }
   ],
   "source": [
    "sns.heatmap(New_Lead_Bid.isnull(), cmap ='viridis')"
   ]
  },
  {
   "cell_type": "code",
   "execution_count": 696,
   "metadata": {},
   "outputs": [
    {
     "data": {
      "text/html": [
       "<div>\n",
       "<style scoped>\n",
       "    .dataframe tbody tr th:only-of-type {\n",
       "        vertical-align: middle;\n",
       "    }\n",
       "\n",
       "    .dataframe tbody tr th {\n",
       "        vertical-align: top;\n",
       "    }\n",
       "\n",
       "    .dataframe thead th {\n",
       "        text-align: right;\n",
       "    }\n",
       "</style>\n",
       "<table border=\"1\" class=\"dataframe\">\n",
       "  <thead>\n",
       "    <tr style=\"text-align: right;\">\n",
       "      <th></th>\n",
       "      <th>BidPrice</th>\n",
       "      <th>AcceptedBid</th>\n",
       "      <th>ExpectedRevenue</th>\n",
       "      <th>ExpectedConversion</th>\n",
       "    </tr>\n",
       "  </thead>\n",
       "  <tbody>\n",
       "    <tr>\n",
       "      <th>8</th>\n",
       "      <td>35.0</td>\n",
       "      <td>0</td>\n",
       "      <td>360.67</td>\n",
       "      <td>0.086</td>\n",
       "    </tr>\n",
       "    <tr>\n",
       "      <th>9</th>\n",
       "      <td>35.0</td>\n",
       "      <td>1</td>\n",
       "      <td>271.49</td>\n",
       "      <td>0.356</td>\n",
       "    </tr>\n",
       "    <tr>\n",
       "      <th>10</th>\n",
       "      <td>35.0</td>\n",
       "      <td>1</td>\n",
       "      <td>184.64</td>\n",
       "      <td>0.319</td>\n",
       "    </tr>\n",
       "    <tr>\n",
       "      <th>11</th>\n",
       "      <td>35.0</td>\n",
       "      <td>0</td>\n",
       "      <td>107.60</td>\n",
       "      <td>0.446</td>\n",
       "    </tr>\n",
       "    <tr>\n",
       "      <th>12</th>\n",
       "      <td>35.0</td>\n",
       "      <td>1</td>\n",
       "      <td>82.80</td>\n",
       "      <td>0.463</td>\n",
       "    </tr>\n",
       "    <tr>\n",
       "      <th>13</th>\n",
       "      <td>35.0</td>\n",
       "      <td>1</td>\n",
       "      <td>158.96</td>\n",
       "      <td>0.243</td>\n",
       "    </tr>\n",
       "    <tr>\n",
       "      <th>14</th>\n",
       "      <td>75.0</td>\n",
       "      <td>1</td>\n",
       "      <td>614.01</td>\n",
       "      <td>0.158</td>\n",
       "    </tr>\n",
       "    <tr>\n",
       "      <th>15</th>\n",
       "      <td>75.0</td>\n",
       "      <td>1</td>\n",
       "      <td>613.61</td>\n",
       "      <td>0.337</td>\n",
       "    </tr>\n",
       "    <tr>\n",
       "      <th>20</th>\n",
       "      <td>35.0</td>\n",
       "      <td>1</td>\n",
       "      <td>414.24</td>\n",
       "      <td>0.396</td>\n",
       "    </tr>\n",
       "    <tr>\n",
       "      <th>21</th>\n",
       "      <td>75.0</td>\n",
       "      <td>1</td>\n",
       "      <td>676.15</td>\n",
       "      <td>0.173</td>\n",
       "    </tr>\n",
       "  </tbody>\n",
       "</table>\n",
       "</div>"
      ],
      "text/plain": [
       "    BidPrice  AcceptedBid  ExpectedRevenue  ExpectedConversion\n",
       "8       35.0            0           360.67               0.086\n",
       "9       35.0            1           271.49               0.356\n",
       "10      35.0            1           184.64               0.319\n",
       "11      35.0            0           107.60               0.446\n",
       "12      35.0            1            82.80               0.463\n",
       "13      35.0            1           158.96               0.243\n",
       "14      75.0            1           614.01               0.158\n",
       "15      75.0            1           613.61               0.337\n",
       "20      35.0            1           414.24               0.396\n",
       "21      75.0            1           676.15               0.173"
      ]
     },
     "execution_count": 696,
     "metadata": {},
     "output_type": "execute_result"
    }
   ],
   "source": [
    "#Since the id column is not required as it does not give any information we are droping it\n",
    "New_Lead_Bid = New_Lead_Bid.drop(['id'], axis =1)\n",
    "New_Lead_Bid.head(10)"
   ]
  },
  {
   "cell_type": "code",
   "execution_count": 697,
   "metadata": {},
   "outputs": [
    {
     "name": "stdout",
     "output_type": "stream",
     "text": [
      "Number of records: 21946\n",
      "Number of variables: 4\n"
     ]
    }
   ],
   "source": [
    "#Calculating the number of rows,column left after droping the null values and droping column id\n",
    "print(\"Number of records: {}\\nNumber of variables: {}\".format(New_Lead_Bid.shape[0], New_Lead_Bid.shape[1]))"
   ]
  },
  {
   "cell_type": "code",
   "execution_count": 698,
   "metadata": {},
   "outputs": [
    {
     "data": {
      "text/plain": [
       "<matplotlib.axes._subplots.AxesSubplot at 0x29213638eb8>"
      ]
     },
     "execution_count": 698,
     "metadata": {},
     "output_type": "execute_result"
    },
    {
     "data": {
      "image/png": "[encoded data removed]",
      "text/plain": [
       "<Figure size 432x288 with 1 Axes>"
      ]
     },
     "metadata": {
      "needs_background": "light"
     },
     "output_type": "display_data"
    }
   ],
   "source": [
    "#countplot for statistical analysis\n",
    "sns.countplot(x='BidPrice', data = New_Lead_Bid)"
   ]
  },
  {
   "cell_type": "code",
   "execution_count": 699,
   "metadata": {},
   "outputs": [
    {
     "data": {
      "text/plain": [
       "<matplotlib.axes._subplots.AxesSubplot at 0x2921315a0b8>"
      ]
     },
     "execution_count": 699,
     "metadata": {},
     "output_type": "execute_result"
    },
    {
     "data": {
      "image/png": "[encoded data removed]",
      "text/plain": [
       "<Figure size 432x288 with 1 Axes>"
      ]
     },
     "metadata": {
      "needs_background": "light"
     },
     "output_type": "display_data"
    }
   ],
   "source": [
    "#countplot for statistical analysis\n",
    "sns.countplot(x='BidPrice',hue = 'AcceptedBid', data = New_Lead_Bid)"
   ]
  },
  {
   "cell_type": "code",
   "execution_count": 700,
   "metadata": {},
   "outputs": [
    {
     "data": {
      "text/plain": [
       "<matplotlib.axes._subplots.AxesSubplot at 0x292055ab940>"
      ]
     },
     "execution_count": 700,
     "metadata": {},
     "output_type": "execute_result"
    },
    {
     "data": {
      "image/png": "[encoded data removed]",
      "text/plain": [
       "<Figure size 432x288 with 1 Axes>"
      ]
     },
     "metadata": {
      "needs_background": "light"
     },
     "output_type": "display_data"
    }
   ],
   "source": [
    "#Histogram for stastical analysis\n",
    "New_Lead_Bid[\"ExpectedRevenue\"].plot.hist()"
   ]
  },
  {
   "cell_type": "code",
   "execution_count": 701,
   "metadata": {},
   "outputs": [
    {
     "data": {
      "text/plain": [
       "<matplotlib.axes._subplots.AxesSubplot at 0x2920e68b6a0>"
      ]
     },
     "execution_count": 701,
     "metadata": {},
     "output_type": "execute_result"
    },
    {
     "data": {
      "image/png": "[encoded data removed]",
      "text/plain": [
       "<Figure size 432x288 with 1 Axes>"
      ]
     },
     "metadata": {
      "needs_background": "light"
     },
     "output_type": "display_data"
    }
   ],
   "source": [
    "#Histogram for stastical analysis\n",
    "New_Lead_Bid[\"ExpectedConversion\"].plot.hist()"
   ]
  },
  {
   "cell_type": "code",
   "execution_count": 702,
   "metadata": {},
   "outputs": [
    {
     "data": {
      "text/html": [
       "<div>\n",
       "<style scoped>\n",
       "    .dataframe tbody tr th:only-of-type {\n",
       "        vertical-align: middle;\n",
       "    }\n",
       "\n",
       "    .dataframe tbody tr th {\n",
       "        vertical-align: top;\n",
       "    }\n",
       "\n",
       "    .dataframe thead th {\n",
       "        text-align: right;\n",
       "    }\n",
       "</style>\n",
       "<table border=\"1\" class=\"dataframe\">\n",
       "  <thead>\n",
       "    <tr style=\"text-align: right;\">\n",
       "      <th></th>\n",
       "      <th>BidPrice</th>\n",
       "      <th>AcceptedBid</th>\n",
       "      <th>ExpectedRevenue</th>\n",
       "      <th>ExpectedConversion</th>\n",
       "    </tr>\n",
       "  </thead>\n",
       "  <tbody>\n",
       "    <tr>\n",
       "      <th>count</th>\n",
       "      <td>21946.000000</td>\n",
       "      <td>21946.000000</td>\n",
       "      <td>21946.000000</td>\n",
       "      <td>21946.000000</td>\n",
       "    </tr>\n",
       "    <tr>\n",
       "      <th>mean</th>\n",
       "      <td>40.982594</td>\n",
       "      <td>0.730247</td>\n",
       "      <td>330.324871</td>\n",
       "      <td>0.337698</td>\n",
       "    </tr>\n",
       "    <tr>\n",
       "      <th>std</th>\n",
       "      <td>23.222230</td>\n",
       "      <td>0.443842</td>\n",
       "      <td>169.283326</td>\n",
       "      <td>0.124755</td>\n",
       "    </tr>\n",
       "    <tr>\n",
       "      <th>min</th>\n",
       "      <td>3.000000</td>\n",
       "      <td>0.000000</td>\n",
       "      <td>44.640000</td>\n",
       "      <td>0.009000</td>\n",
       "    </tr>\n",
       "    <tr>\n",
       "      <th>25%</th>\n",
       "      <td>35.000000</td>\n",
       "      <td>0.000000</td>\n",
       "      <td>194.240000</td>\n",
       "      <td>0.245000</td>\n",
       "    </tr>\n",
       "    <tr>\n",
       "      <th>50%</th>\n",
       "      <td>35.000000</td>\n",
       "      <td>1.000000</td>\n",
       "      <td>301.060000</td>\n",
       "      <td>0.319000</td>\n",
       "    </tr>\n",
       "    <tr>\n",
       "      <th>75%</th>\n",
       "      <td>75.000000</td>\n",
       "      <td>1.000000</td>\n",
       "      <td>438.862500</td>\n",
       "      <td>0.414000</td>\n",
       "    </tr>\n",
       "    <tr>\n",
       "      <th>max</th>\n",
       "      <td>75.000000</td>\n",
       "      <td>1.000000</td>\n",
       "      <td>820.000000</td>\n",
       "      <td>0.887000</td>\n",
       "    </tr>\n",
       "  </tbody>\n",
       "</table>\n",
       "</div>"
      ],
      "text/plain": [
       "           BidPrice   AcceptedBid  ExpectedRevenue  ExpectedConversion\n",
       "count  21946.000000  21946.000000     21946.000000        21946.000000\n",
       "mean      40.982594      0.730247       330.324871            0.337698\n",
       "std       23.222230      0.443842       169.283326            0.124755\n",
       "min        3.000000      0.000000        44.640000            0.009000\n",
       "25%       35.000000      0.000000       194.240000            0.245000\n",
       "50%       35.000000      1.000000       301.060000            0.319000\n",
       "75%       75.000000      1.000000       438.862500            0.414000\n",
       "max       75.000000      1.000000       820.000000            0.887000"
      ]
     },
     "execution_count": 702,
     "metadata": {},
     "output_type": "execute_result"
    }
   ],
   "source": [
    "#The describe() function computes a summary of statistics pertaining to the DataFrame columns.\n",
    "New_Lead_Bid.describe()"
   ]
  },
  {
   "cell_type": "code",
   "execution_count": 703,
   "metadata": {},
   "outputs": [
    {
     "data": {
      "image/png": "[encoded data removed]",
      "text/plain": [
       "<Figure size 576x432 with 2 Axes>"
      ]
     },
     "metadata": {
      "needs_background": "light"
     },
     "output_type": "display_data"
    }
   ],
   "source": [
    "# create a correlation heatmap\n",
    "sns.heatmap(New_Lead_Bid.corr(),annot=True, cmap='terrain', linewidths=0.1)\n",
    "fig=plt.gcf()\n",
    "fig.set_size_inches(8,6)\n",
    "plt.show()"
   ]
  },
  {
   "cell_type": "code",
   "execution_count": 704,
   "metadata": {},
   "outputs": [
    {
     "data": {
      "text/plain": [
       "AcceptedBid  BidPrice\n",
       "0            3.0         2435\n",
       "             35.0        3086\n",
       "             50.0         227\n",
       "             75.0         172\n",
       "1            3.0          913\n",
       "             35.0        8975\n",
       "             50.0         695\n",
       "             75.0        5443\n",
       "Name: BidPrice, dtype: int64"
      ]
     },
     "execution_count": 704,
     "metadata": {},
     "output_type": "execute_result"
    }
   ],
   "source": [
    "# count AcceptedBid vs BidPrice and grouped by BidPrice\n",
    "New_Lead_Bid.groupby(['AcceptedBid','BidPrice'])['BidPrice'].count()"
   ]
  },
  {
   "cell_type": "code",
   "execution_count": 705,
   "metadata": {},
   "outputs": [
    {
     "data": {
      "text/html": [
       "<div>\n",
       "<style scoped>\n",
       "    .dataframe tbody tr th:only-of-type {\n",
       "        vertical-align: middle;\n",
       "    }\n",
       "\n",
       "    .dataframe tbody tr th {\n",
       "        vertical-align: top;\n",
       "    }\n",
       "\n",
       "    .dataframe thead th {\n",
       "        text-align: right;\n",
       "    }\n",
       "</style>\n",
       "<table border=\"1\" class=\"dataframe\">\n",
       "  <thead>\n",
       "    <tr style=\"text-align: right;\">\n",
       "      <th></th>\n",
       "      <th>BidPrice</th>\n",
       "      <th>AcceptedBid</th>\n",
       "      <th>ExpectedRevenue</th>\n",
       "      <th>ExpectedConversion</th>\n",
       "    </tr>\n",
       "  </thead>\n",
       "  <tbody>\n",
       "    <tr>\n",
       "      <th>8</th>\n",
       "      <td>35.0</td>\n",
       "      <td>0</td>\n",
       "      <td>360.67</td>\n",
       "      <td>0.086</td>\n",
       "    </tr>\n",
       "    <tr>\n",
       "      <th>9</th>\n",
       "      <td>35.0</td>\n",
       "      <td>1</td>\n",
       "      <td>271.49</td>\n",
       "      <td>0.356</td>\n",
       "    </tr>\n",
       "    <tr>\n",
       "      <th>10</th>\n",
       "      <td>35.0</td>\n",
       "      <td>1</td>\n",
       "      <td>184.64</td>\n",
       "      <td>0.319</td>\n",
       "    </tr>\n",
       "    <tr>\n",
       "      <th>11</th>\n",
       "      <td>35.0</td>\n",
       "      <td>0</td>\n",
       "      <td>107.60</td>\n",
       "      <td>0.446</td>\n",
       "    </tr>\n",
       "    <tr>\n",
       "      <th>12</th>\n",
       "      <td>35.0</td>\n",
       "      <td>1</td>\n",
       "      <td>82.80</td>\n",
       "      <td>0.463</td>\n",
       "    </tr>\n",
       "    <tr>\n",
       "      <th>13</th>\n",
       "      <td>35.0</td>\n",
       "      <td>1</td>\n",
       "      <td>158.96</td>\n",
       "      <td>0.243</td>\n",
       "    </tr>\n",
       "    <tr>\n",
       "      <th>14</th>\n",
       "      <td>75.0</td>\n",
       "      <td>1</td>\n",
       "      <td>614.01</td>\n",
       "      <td>0.158</td>\n",
       "    </tr>\n",
       "    <tr>\n",
       "      <th>15</th>\n",
       "      <td>75.0</td>\n",
       "      <td>1</td>\n",
       "      <td>613.61</td>\n",
       "      <td>0.337</td>\n",
       "    </tr>\n",
       "    <tr>\n",
       "      <th>20</th>\n",
       "      <td>35.0</td>\n",
       "      <td>1</td>\n",
       "      <td>414.24</td>\n",
       "      <td>0.396</td>\n",
       "    </tr>\n",
       "    <tr>\n",
       "      <th>21</th>\n",
       "      <td>75.0</td>\n",
       "      <td>1</td>\n",
       "      <td>676.15</td>\n",
       "      <td>0.173</td>\n",
       "    </tr>\n",
       "  </tbody>\n",
       "</table>\n",
       "</div>"
      ],
      "text/plain": [
       "    BidPrice  AcceptedBid  ExpectedRevenue  ExpectedConversion\n",
       "8       35.0            0           360.67               0.086\n",
       "9       35.0            1           271.49               0.356\n",
       "10      35.0            1           184.64               0.319\n",
       "11      35.0            0           107.60               0.446\n",
       "12      35.0            1            82.80               0.463\n",
       "13      35.0            1           158.96               0.243\n",
       "14      75.0            1           614.01               0.158\n",
       "15      75.0            1           613.61               0.337\n",
       "20      35.0            1           414.24               0.396\n",
       "21      75.0            1           676.15               0.173"
      ]
     },
     "execution_count": 705,
     "metadata": {},
     "output_type": "execute_result"
    }
   ],
   "source": [
    "New_Lead_Bid.head(10)"
   ]
  },
  {
   "cell_type": "markdown",
   "metadata": {},
   "source": [
    "# Data Preprocessing "
   ]
  },
  {
   "cell_type": "code",
   "execution_count": 706,
   "metadata": {},
   "outputs": [],
   "source": [
    "#Splitting the independent variables from the dependent variable\n",
    "X= New_Lead_Bid.drop([\"AcceptedBid\"], axis=1)\n",
    "y= New_Lead_Bid['AcceptedBid']"
   ]
  },
  {
   "cell_type": "code",
   "execution_count": 707,
   "metadata": {},
   "outputs": [],
   "source": [
    "#splitting it into train set and test set\n",
    "from sklearn.model_selection import train_test_split\n",
    "X_train, X_test, y_train, y_test = train_test_split(X, y, test_size=0.33, random_state=42)"
   ]
  },
  {
   "cell_type": "code",
   "execution_count": 708,
   "metadata": {},
   "outputs": [],
   "source": [
    "#standardization of X,y variables\n",
    "from sklearn.preprocessing import StandardScaler \n",
    "sc_x = StandardScaler() \n",
    "X_train = sc_x.fit_transform(X_train)  \n",
    "X_test = sc_x.transform(X_test) "
   ]
  },
  {
   "cell_type": "markdown",
   "metadata": {},
   "source": [
    "# Modelling and Predicting with Machine learning"
   ]
  },
  {
   "cell_type": "markdown",
   "metadata": {},
   "source": [
    "## 1)Logistic Regression "
   ]
  },
  {
   "cell_type": "code",
   "execution_count": 709,
   "metadata": {},
   "outputs": [
    {
     "data": {
      "text/plain": [
       "LogisticRegression(random_state=0)"
      ]
     },
     "execution_count": 709,
     "metadata": {},
     "output_type": "execute_result"
    }
   ],
   "source": [
    "classifier_Logistic = LogisticRegression(random_state = 0) \n",
    "classifier_Logistic.fit(X_train, y_train) "
   ]
  },
  {
   "cell_type": "code",
   "execution_count": 710,
   "metadata": {},
   "outputs": [],
   "source": [
    "y_pred_Logistic = classifier_Logistic.predict(X_test)\n",
    "y_pred_train_Logistic = classifier_Logistic.predict(X_train)"
   ]
  },
  {
   "cell_type": "code",
   "execution_count": 711,
   "metadata": {},
   "outputs": [
    {
     "name": "stdout",
     "output_type": "stream",
     "text": [
      "[[ 824 1107]\n",
      " [ 303 5009]]\n"
     ]
    }
   ],
   "source": [
    "conf_matrix_Logistic = confusion_matrix(y_test, y_pred_Logistic)\n",
    "print(conf_matrix_Logistic)"
   ]
  },
  {
   "cell_type": "code",
   "execution_count": 712,
   "metadata": {},
   "outputs": [
    {
     "data": {
      "image/png": "[encoded data removed]",
      "text/plain": [
       "<Figure size 432x288 with 2 Axes>"
      ]
     },
     "metadata": {
      "needs_background": "light"
     },
     "output_type": "display_data"
    }
   ],
   "source": [
    "plot_confusion_matrix(classifier_Logistic, X_test, y_test)\n",
    "plt.show()"
   ]
  },
  {
   "cell_type": "code",
   "execution_count": 713,
   "metadata": {},
   "outputs": [
    {
     "name": "stdout",
     "output_type": "stream",
     "text": [
      "Test\n",
      "Accuracy 0.8053292834460859\n",
      "--------------------------\n",
      "Precision of 1: 0.7750719888717565\n",
      "\n",
      "\n",
      "F1 score: 0.707766577014266\n",
      "\n",
      "\n",
      "Recall of 1: 0.6848406215488573\n",
      "--------------------------\n",
      "Train\n",
      "Accuracy 0.796844181459566\n"
     ]
    }
   ],
   "source": [
    "print('Test')\n",
    "print('Accuracy',accuracy_score(y_pred_Logistic,y_test))\n",
    "print('--------------------------')\n",
    "print('Precision of 1:',precision_score(y_test,y_pred_Logistic,pos_label=1,average='macro'))\n",
    "print('\\n')\n",
    "print('F1 score:', f1_score(y_test, y_pred_Logistic,average='macro'))\n",
    "print('\\n')\n",
    "print('Recall of 1:',recall_score(y_test,y_pred_Logistic,pos_label=1,average='macro'))\n",
    "print('--------------------------')\n",
    "print('Train')\n",
    "print('Accuracy',accuracy_score(y_pred_train_Logistic,y_train))"
   ]
  },
  {
   "cell_type": "markdown",
   "metadata": {},
   "source": [
    "## 2)Decision Trees"
   ]
  },
  {
   "cell_type": "code",
   "execution_count": 714,
   "metadata": {},
   "outputs": [
    {
     "data": {
      "text/plain": [
       "DecisionTreeClassifier(criterion='entropy')"
      ]
     },
     "execution_count": 714,
     "metadata": {},
     "output_type": "execute_result"
    }
   ],
   "source": [
    "classifier_Trees = DecisionTreeClassifier(criterion = 'entropy')\n",
    "classifier_Trees.fit(X_train, y_train)"
   ]
  },
  {
   "cell_type": "code",
   "execution_count": 715,
   "metadata": {},
   "outputs": [],
   "source": [
    "y_pred_Trees = classifier_Trees.predict(X_test)\n",
    "y_pred_train_Trees = classifier_Trees.predict(X_train)"
   ]
  },
  {
   "cell_type": "code",
   "execution_count": 716,
   "metadata": {},
   "outputs": [
    {
     "name": "stdout",
     "output_type": "stream",
     "text": [
      "[[ 915 1016]\n",
      " [1150 4162]]\n"
     ]
    }
   ],
   "source": [
    "conf_matrix_Trees = confusion_matrix(y_test, y_pred_Trees) \n",
    "print(conf_matrix_Trees)"
   ]
  },
  {
   "cell_type": "code",
   "execution_count": 717,
   "metadata": {},
   "outputs": [
    {
     "data": {
      "image/png": "[encoded data removed]",
      "text/plain": [
       "<Figure size 432x288 with 2 Axes>"
      ]
     },
     "metadata": {
      "needs_background": "light"
     },
     "output_type": "display_data"
    }
   ],
   "source": [
    "plot_confusion_matrix(classifier_Trees, X_test, y_test)\n",
    "plt.show()"
   ]
  },
  {
   "cell_type": "code",
   "execution_count": 718,
   "metadata": {},
   "outputs": [
    {
     "name": "stdout",
     "output_type": "stream",
     "text": [
      "Test\n",
      "Accuracy 0.7009526439320724\n",
      "--------------------------\n",
      "Precision of 1: 0.6234422594380958\n",
      "\n",
      "\n",
      "F1 score: 0.6257377969008093\n",
      "\n",
      "\n",
      "Recall of 1: 0.6286783917128899\n",
      "--------------------------\n",
      "Train\n",
      "Accuracy 0.9995919200163232\n"
     ]
    }
   ],
   "source": [
    "print('Test')\n",
    "print('Accuracy',accuracy_score(y_pred_Trees,y_test))\n",
    "print('--------------------------')\n",
    "print('Precision of 1:',precision_score(y_test,y_pred_Trees,pos_label=1,average='macro'))\n",
    "print('\\n')\n",
    "print('F1 score:', f1_score(y_test, y_pred_Trees,average='macro'))\n",
    "print('\\n')\n",
    "print('Recall of 1:',recall_score(y_test,y_pred_Trees,pos_label=1,average='macro'))\n",
    "print('--------------------------')\n",
    "print('Train')\n",
    "print('Accuracy',accuracy_score(y_pred_train_Trees,y_train))"
   ]
  },
  {
   "cell_type": "markdown",
   "metadata": {},
   "source": [
    "## 3)Random Forest"
   ]
  },
  {
   "cell_type": "code",
   "execution_count": 719,
   "metadata": {},
   "outputs": [
    {
     "data": {
      "text/plain": [
       "RandomForestClassifier(criterion='entropy', n_estimators=75)"
      ]
     },
     "execution_count": 719,
     "metadata": {},
     "output_type": "execute_result"
    }
   ],
   "source": [
    "classifier_Forest=RandomForestClassifier(n_estimators=75, criterion='entropy')\n",
    "classifier_Forest.fit(X_train,y_train)"
   ]
  },
  {
   "cell_type": "code",
   "execution_count": 720,
   "metadata": {},
   "outputs": [],
   "source": [
    "y_pred_Forest=classifier_Forest.predict(X_test)\n",
    "y_pred_train_Forest = classifier_Trees.predict(X_train)"
   ]
  },
  {
   "cell_type": "code",
   "execution_count": 721,
   "metadata": {},
   "outputs": [
    {
     "name": "stdout",
     "output_type": "stream",
     "text": [
      "[[ 903 1028]\n",
      " [ 698 4614]]\n"
     ]
    }
   ],
   "source": [
    "conf_matrix_Forest = confusion_matrix(y_test, y_pred_Forest) \n",
    "print(conf_matrix_Forest)"
   ]
  },
  {
   "cell_type": "code",
   "execution_count": 722,
   "metadata": {},
   "outputs": [
    {
     "data": {
      "image/png": "[encoded data removed]",
      "text/plain": [
       "<Figure size 432x288 with 2 Axes>"
      ]
     },
     "metadata": {
      "needs_background": "light"
     },
     "output_type": "display_data"
    }
   ],
   "source": [
    "plot_confusion_matrix(classifier_Forest, X_test, y_test)\n",
    "plt.show()"
   ]
  },
  {
   "cell_type": "code",
   "execution_count": 723,
   "metadata": {},
   "outputs": [
    {
     "name": "stdout",
     "output_type": "stream",
     "text": [
      "Test\n",
      "Accuracy 0.7617009526439321\n",
      "--------------------------\n",
      "Precision of 1: 0.6909087970319862\n",
      "\n",
      "\n",
      "F1 score: 0.6768785083136709\n",
      "\n",
      "\n",
      "Recall of 1: 0.6681163740929539\n",
      "--------------------------\n",
      "Train\n",
      "Accuracy 0.9995919200163232\n"
     ]
    }
   ],
   "source": [
    "print('Test')\n",
    "print('Accuracy',accuracy_score(y_pred_Forest,y_test))\n",
    "print('--------------------------')\n",
    "print('Precision of 1:',precision_score(y_test,y_pred_Forest,pos_label=1,average='macro'))\n",
    "print('\\n')\n",
    "print('F1 score:', f1_score(y_test, y_pred_Forest,average='macro'))\n",
    "print('\\n')\n",
    "print('Recall of 1:',recall_score(y_test,y_pred_Forest,pos_label=1,average='macro'))\n",
    "print('--------------------------')\n",
    "print('Train')\n",
    "print('Accuracy',accuracy_score(y_pred_train_Forest,y_train))"
   ]
  },
  {
   "cell_type": "markdown",
   "metadata": {},
   "source": [
    "## 4)K nearest neighbors"
   ]
  },
  {
   "cell_type": "code",
   "execution_count": 724,
   "metadata": {},
   "outputs": [
    {
     "data": {
      "text/plain": [
       "KNeighborsClassifier(n_neighbors=3)"
      ]
     },
     "execution_count": 724,
     "metadata": {},
     "output_type": "execute_result"
    }
   ],
   "source": [
    "classifier_Knn = KNeighborsClassifier(n_neighbors=3)\n",
    "classifier_Knn.fit(X_train, y_train)"
   ]
  },
  {
   "cell_type": "code",
   "execution_count": 725,
   "metadata": {},
   "outputs": [],
   "source": [
    "y_pred_Knn=classifier_Knn.predict(X_test)\n",
    "y_pred_train_Knn = classifier_Knn.predict(X_train)"
   ]
  },
  {
   "cell_type": "code",
   "execution_count": 726,
   "metadata": {},
   "outputs": [
    {
     "name": "stdout",
     "output_type": "stream",
     "text": [
      "[[ 899 1032]\n",
      " [ 758 4554]]\n"
     ]
    }
   ],
   "source": [
    "conf_matrix_Forest = confusion_matrix(y_test, y_pred_Knn) \n",
    "print(conf_matrix_Forest)"
   ]
  },
  {
   "cell_type": "code",
   "execution_count": 727,
   "metadata": {},
   "outputs": [
    {
     "data": {
      "image/png": "[encoded data removed]",
      "text/plain": [
       "<Figure size 432x288 with 2 Axes>"
      ]
     },
     "metadata": {
      "needs_background": "light"
     },
     "output_type": "display_data"
    }
   ],
   "source": [
    "plot_confusion_matrix(classifier_Knn, X_test, y_test)\n",
    "plt.show()"
   ]
  },
  {
   "cell_type": "code",
   "execution_count": 728,
   "metadata": {},
   "outputs": [
    {
     "name": "stdout",
     "output_type": "stream",
     "text": [
      "Test\n",
      "Accuracy 0.7528648350131161\n",
      "--------------------------\n",
      "Precision of 1: 0.6788995940147808\n",
      "\n",
      "\n",
      "F1 score: 0.668432253020969\n",
      "\n",
      "\n",
      "Recall of 1: 0.6614330509505656\n",
      "--------------------------\n",
      "Train\n",
      "Accuracy 0.852002992586547\n"
     ]
    }
   ],
   "source": [
    "print('Test')\n",
    "print('Accuracy',accuracy_score(y_pred_Knn,y_test))\n",
    "print('--------------------------')\n",
    "print('Precision of 1:',precision_score(y_test,y_pred_Knn,pos_label=1,average='macro'))\n",
    "print('\\n')\n",
    "print('F1 score:', f1_score(y_test, y_pred_Knn,average='macro'))\n",
    "print('\\n')\n",
    "print('Recall of 1:',recall_score(y_test,y_pred_Knn,pos_label=1,average='macro'))\n",
    "print('--------------------------')\n",
    "print('Train')\n",
    "print('Accuracy',accuracy_score(y_pred_train_Knn,y_train))"
   ]
  },
  {
   "cell_type": "markdown",
   "metadata": {},
   "source": [
    "## 5)Support Vector Machine"
   ]
  },
  {
   "cell_type": "code",
   "execution_count": 729,
   "metadata": {},
   "outputs": [
    {
     "data": {
      "text/plain": [
       "SVC(kernel='linear')"
      ]
     },
     "execution_count": 729,
     "metadata": {},
     "output_type": "execute_result"
    }
   ],
   "source": [
    "classifier_SVM = svm.SVC(kernel='linear') # Linear Kernel\n",
    "classifier_SVM.fit(X_train, y_train)"
   ]
  },
  {
   "cell_type": "code",
   "execution_count": 730,
   "metadata": {},
   "outputs": [],
   "source": [
    "y_pred_SVM=classifier_SVM.predict(X_test)\n",
    "y_pred_train_SVM = classifier_SVM.predict(X_train)"
   ]
  },
  {
   "cell_type": "code",
   "execution_count": 731,
   "metadata": {},
   "outputs": [
    {
     "name": "stdout",
     "output_type": "stream",
     "text": [
      "[[ 824 1107]\n",
      " [ 303 5009]]\n"
     ]
    }
   ],
   "source": [
    "conf_matrix_Forest = confusion_matrix(y_test, y_pred_SVM) \n",
    "print(conf_matrix_Forest)"
   ]
  },
  {
   "cell_type": "code",
   "execution_count": 732,
   "metadata": {},
   "outputs": [
    {
     "data": {
      "image/png": "[encoded data removed]",
      "text/plain": [
       "<Figure size 432x288 with 2 Axes>"
      ]
     },
     "metadata": {
      "needs_background": "light"
     },
     "output_type": "display_data"
    }
   ],
   "source": [
    "plot_confusion_matrix(classifier_SVM, X_test, y_test)\n",
    "plt.show()"
   ]
  },
  {
   "cell_type": "code",
   "execution_count": 733,
   "metadata": {},
   "outputs": [
    {
     "name": "stdout",
     "output_type": "stream",
     "text": [
      "Test\n",
      "Accuracy 0.8053292834460859\n",
      "--------------------------\n",
      "Precision of 1: 0.7750719888717565\n",
      "\n",
      "\n",
      "F1 score: 0.707766577014266\n",
      "\n",
      "\n",
      "Recall of 1: 0.6848406215488573\n",
      "--------------------------\n",
      "Train\n",
      "Accuracy 0.7967761681289532\n"
     ]
    }
   ],
   "source": [
    "print('Test')\n",
    "print('Accuracy',accuracy_score(y_pred_SVM,y_test))\n",
    "print('--------------------------')\n",
    "print('Precision of 1:',precision_score(y_test,y_pred_SVM,pos_label=1,average='macro'))\n",
    "print('\\n')\n",
    "print('F1 score:', f1_score(y_test,y_pred_SVM,average='macro'))\n",
    "print('\\n')\n",
    "print('Recall of 1:',recall_score(y_test,y_pred_SVM,pos_label=1,average='macro'))\n",
    "print('--------------------------')\n",
    "print('Train')\n",
    "print('Accuracy',accuracy_score(y_pred_train_SVM,y_train))"
   ]
  },
  {
   "cell_type": "markdown",
   "metadata": {},
   "source": [
    "## 6) Neural Network"
   ]
  },
  {
   "cell_type": "code",
   "execution_count": 734,
   "metadata": {},
   "outputs": [
    {
     "data": {
      "text/plain": [
       "MLPClassifier(hidden_layer_sizes=10)"
      ]
     },
     "execution_count": 734,
     "metadata": {},
     "output_type": "execute_result"
    }
   ],
   "source": [
    "classifier_NN = MLPClassifier(hidden_layer_sizes=10,activation='relu')\n",
    "classifier_NN.fit(X_train, y_train)"
   ]
  },
  {
   "cell_type": "code",
   "execution_count": 735,
   "metadata": {},
   "outputs": [],
   "source": [
    "y_pred_NN=classifier_NN.predict(X_test)\n",
    "y_pred_train_NN = classifier_NN.predict(X_train)"
   ]
  },
  {
   "cell_type": "code",
   "execution_count": 736,
   "metadata": {},
   "outputs": [
    {
     "name": "stdout",
     "output_type": "stream",
     "text": [
      "[[ 800 1131]\n",
      " [ 292 5020]]\n"
     ]
    }
   ],
   "source": [
    "conf_matrix_Forest = confusion_matrix(y_test, y_pred_NN) \n",
    "print(conf_matrix_Forest)"
   ]
  },
  {
   "cell_type": "code",
   "execution_count": 737,
   "metadata": {},
   "outputs": [
    {
     "data": {
      "image/png": "[encoded data removed]",
      "text/plain": [
       "<Figure size 432x288 with 2 Axes>"
      ]
     },
     "metadata": {
      "needs_background": "light"
     },
     "output_type": "display_data"
    }
   ],
   "source": [
    "plot_confusion_matrix(classifier_NN, X_test, y_test)\n",
    "plt.show()"
   ]
  },
  {
   "cell_type": "code",
   "execution_count": 738,
   "metadata": {},
   "outputs": [
    {
     "name": "stdout",
     "output_type": "stream",
     "text": [
      "Test\n",
      "Accuracy 0.8035344470523264\n",
      "--------------------------\n",
      "Precision of 1: 0.7938590468857051\n",
      "\n",
      "\n",
      "F1 score: 0.7834608876700271\n",
      "\n",
      "\n",
      "Recall of 1: 0.8035344470523264\n",
      "--------------------------\n",
      "Train\n",
      "Accuracy 0.7959600081615996\n"
     ]
    }
   ],
   "source": [
    "print('Test')\n",
    "print('Accuracy',accuracy_score(y_pred_NN,y_test))\n",
    "print('--------------------------')\n",
    "print('Precision of 1:',precision_score(y_test,y_pred_NN,pos_label=1,average='weighted'))\n",
    "print('\\n')\n",
    "print('F1 score:', f1_score(y_test,y_pred_NN,average='weighted'))\n",
    "print('\\n')\n",
    "print('Recall of 1:',recall_score(y_test,y_pred_NN,pos_label=1,average='weighted'))\n",
    "print('--------------------------')\n",
    "print('Train')\n",
    "print('Accuracy',accuracy_score(y_pred_train_NN,y_train))"
   ]
  },
  {
   "cell_type": "markdown",
   "metadata": {},
   "source": [
    "## 7)Naive Bayes"
   ]
  },
  {
   "cell_type": "code",
   "execution_count": 739,
   "metadata": {},
   "outputs": [
    {
     "data": {
      "text/plain": [
       "GaussianNB()"
      ]
     },
     "execution_count": 739,
     "metadata": {},
     "output_type": "execute_result"
    }
   ],
   "source": [
    "classifier_GaussianNB = GaussianNB()\n",
    "classifier_GaussianNB.fit(X_train, y_train)"
   ]
  },
  {
   "cell_type": "code",
   "execution_count": 740,
   "metadata": {},
   "outputs": [],
   "source": [
    "y_pred_GaussianNB=classifier_GaussianNB.predict(X_test)\n",
    "y_pred_train_GaussianNB = classifier_GaussianNB.predict(X_train)"
   ]
  },
  {
   "cell_type": "code",
   "execution_count": 741,
   "metadata": {},
   "outputs": [
    {
     "name": "stdout",
     "output_type": "stream",
     "text": [
      "[[ 981  950]\n",
      " [ 709 4603]]\n"
     ]
    }
   ],
   "source": [
    "conf_matrix_Forest = confusion_matrix(y_test, y_pred_GaussianNB) \n",
    "print(conf_matrix_Forest)"
   ]
  },
  {
   "cell_type": "code",
   "execution_count": 742,
   "metadata": {},
   "outputs": [
    {
     "data": {
      "image/png": "[encoded data removed]",
      "text/plain": [
       "<Figure size 432x288 with 2 Axes>"
      ]
     },
     "metadata": {
      "needs_background": "light"
     },
     "output_type": "display_data"
    }
   ],
   "source": [
    "plot_confusion_matrix(classifier_GaussianNB, X_test, y_test)\n",
    "plt.show()"
   ]
  },
  {
   "cell_type": "code",
   "execution_count": 743,
   "metadata": {},
   "outputs": [
    {
     "name": "stdout",
     "output_type": "stream",
     "text": [
      "Test\n",
      "Accuracy 0.7709512632886926\n",
      "--------------------------\n",
      "Precision of 1: 0.7046973382904065\n",
      "\n",
      "\n",
      "F1 score: 0.6945735701123719\n",
      "\n",
      "\n",
      "Recall of 1: 0.687277771755068\n",
      "--------------------------\n",
      "Train\n",
      "Accuracy 0.76317758280623\n"
     ]
    }
   ],
   "source": [
    "print('Test')\n",
    "print('Accuracy',accuracy_score(y_pred_GaussianNB,y_test))\n",
    "print('--------------------------')\n",
    "print('Precision of 1:',precision_score(y_test,y_pred_GaussianNB,pos_label=1,average='macro'))\n",
    "print('\\n')\n",
    "print('F1 score:', f1_score(y_test,y_pred_GaussianNB,average='macro'))\n",
    "print('\\n')\n",
    "print('Recall of 1:',recall_score(y_test,y_pred_GaussianNB,pos_label=1,average='macro'))\n",
    "print('--------------------------')\n",
    "print('Train')\n",
    "print('Accuracy',accuracy_score(y_pred_train_GaussianNB,y_train))"
   ]
  },
  {
   "cell_type": "markdown",
   "metadata": {},
   "source": [
    "## 8)Boosting - AdaBoost"
   ]
  },
  {
   "cell_type": "code",
   "execution_count": 744,
   "metadata": {},
   "outputs": [
    {
     "data": {
      "text/plain": [
       "AdaBoostClassifier(base_estimator=DecisionTreeClassifier(max_depth=10),\n",
       "                   n_estimators=12)"
      ]
     },
     "execution_count": 744,
     "metadata": {},
     "output_type": "execute_result"
    }
   ],
   "source": [
    "ada_boost = AdaBoostClassifier(DecisionTreeClassifier(max_depth=10),n_estimators=12)\n",
    "ada_boost.fit(X_train, y_train)"
   ]
  },
  {
   "cell_type": "code",
   "execution_count": 745,
   "metadata": {},
   "outputs": [],
   "source": [
    "y_pred_ada = ada_boost.predict(X_test)\n",
    "y_pred_ada_train = ada_boost.predict(X_train)"
   ]
  },
  {
   "cell_type": "code",
   "execution_count": 746,
   "metadata": {},
   "outputs": [
    {
     "name": "stdout",
     "output_type": "stream",
     "text": [
      "[[ 816 1115]\n",
      " [ 508 4804]]\n"
     ]
    }
   ],
   "source": [
    "conf_matrix_Forest = confusion_matrix(y_test, y_pred_ada) \n",
    "print(conf_matrix_Forest)"
   ]
  },
  {
   "cell_type": "code",
   "execution_count": 747,
   "metadata": {},
   "outputs": [
    {
     "data": {
      "image/png": "[encoded data removed]",
      "text/plain": [
       "<Figure size 432x288 with 2 Axes>"
      ]
     },
     "metadata": {
      "needs_background": "light"
     },
     "output_type": "display_data"
    }
   ],
   "source": [
    "plot_confusion_matrix(ada_boost, X_test, y_test)\n",
    "plt.show()"
   ]
  },
  {
   "cell_type": "code",
   "execution_count": 748,
   "metadata": {},
   "outputs": [
    {
     "name": "stdout",
     "output_type": "stream",
     "text": [
      "Test\n",
      "Accuracy 0.7759215794560265\n",
      "--------------------------\n",
      "Precision of 1: 0.7139688922304075\n",
      "\n",
      "\n",
      "F1 score: 0.6784358796238357\n",
      "\n",
      "\n",
      "Recall of 1: 0.6634732222520325\n",
      "--------------------------\n",
      "Train\n",
      "Accuracy 0.8486703393865198\n"
     ]
    }
   ],
   "source": [
    "print('Test')\n",
    "print('Accuracy',accuracy_score(y_pred_ada,y_test))\n",
    "print('--------------------------')\n",
    "print('Precision of 1:',precision_score(y_test,y_pred_ada,pos_label=1,average='macro'))\n",
    "print('\\n')\n",
    "print('F1 score:', f1_score(y_test,y_pred_ada,average='macro'))\n",
    "print('\\n')\n",
    "print('Recall of 1:',recall_score(y_test,y_pred_ada,pos_label=1,average='macro'))\n",
    "print('--------------------------')\n",
    "print('Train')\n",
    "print('Accuracy',accuracy_score(y_pred_ada_train,y_train))"
   ]
  },
  {
   "cell_type": "markdown",
   "metadata": {},
   "source": [
    "# Roc and Precision"
   ]
  },
  {
   "cell_type": "code",
   "execution_count": 749,
   "metadata": {},
   "outputs": [
    {
     "name": "stdout",
     "output_type": "stream",
     "text": [
      "AUC for  Logistic Regression  =  0.6848406215488573\n",
      "AUC for  Decision Trees  =  0.62867839171289\n",
      "AUC for  Random Forest  =  0.6681163740929539\n",
      "AUC for  K Nearest neighbours  =  0.6614330509505656\n",
      "AUC for  Support Vector Machines  =  0.6848406215488573\n",
      "AUC for  Nueral Network  =  0.6796616164294671\n",
      "AUC for  Naive Bayes  =  0.687277771755068\n",
      "AUC for  AdaBoost  =  0.6634732222520325\n"
     ]
    },
    {
     "data": {
      "image/png": "[encoded data removed]",
      "text/plain": [
       "<Figure size 432x288 with 1 Axes>"
      ]
     },
     "metadata": {
      "needs_background": "light"
     },
     "output_type": "display_data"
    }
   ],
   "source": [
    "from sklearn.metrics import roc_curve, auc\n",
    "\n",
    "\n",
    "classifier_predictions = [y_pred_Logistic,y_pred_Trees,y_pred_Forest,y_pred_Knn,y_pred_SVM,y_pred_NN,y_pred_GaussianNB,y_pred_ada]\n",
    "classifier_names = [\"Logistic Regression\",'Decision Trees',\"Random Forest\",'K Nearest neighbours','Support Vector Machines','Nueral Network','Naive Bayes','AdaBoost']\n",
    "for i in range(len(classifier_predictions)):\n",
    "    fpr,tpr,thresholds = roc_curve(y_test,classifier_predictions[i])\n",
    "    plt.plot(fpr,tpr,label= classifier_names[i])\n",
    "    plt.xlabel(\"False Positive Rate(FPR)\")\n",
    "    plt.ylabel(\"True Positive Rate(TPR)\")\n",
    "    plt.legend()\n",
    "    print(\"AUC for \",classifier_names[i],\" = \",auc(fpr,tpr))"
   ]
  },
  {
   "cell_type": "code",
   "execution_count": 750,
   "metadata": {},
   "outputs": [
    {
     "data": {
      "image/png": "[encoded data removed]",
      "text/plain": [
       "<Figure size 432x288 with 1 Axes>"
      ]
     },
     "metadata": {
      "needs_background": "light"
     },
     "output_type": "display_data"
    }
   ],
   "source": [
    "from sklearn.metrics import precision_recall_curve\n",
    "\n",
    "classifier_predictions = [y_pred_Logistic,y_pred_Trees,y_pred_Forest,y_pred_Knn,y_pred_SVM,y_pred_NN,y_pred_GaussianNB,y_pred_ada]\n",
    "classifier_names = [\"Logistic Regression\",'Decision Trees',\"Random Forest\",'K Nearest neighbours','Support Vector Machines','Nueral Network','Naive Bayes','AdaBoost']\n",
    "\n",
    "for i in range(len(classifier_predictions)):\n",
    "    precision, recall, thresholds = precision_recall_curve(y_test,classifier_predictions[i])\n",
    "    plt.plot(recall,precision,label= classifier_names[i])\n",
    "    plt.xlabel(\"Recall\")\n",
    "    plt.ylabel(\"Precision\")\n",
    "    plt.legend()"
   ]
  },
  {
   "cell_type": "markdown",
   "metadata": {},
   "source": [
    "#  Rule Set"
   ]
  },
  {
   "cell_type": "code",
   "execution_count": 751,
   "metadata": {},
   "outputs": [
    {
     "data": {
      "text/html": [
       "<div>\n",
       "<style scoped>\n",
       "    .dataframe tbody tr th:only-of-type {\n",
       "        vertical-align: middle;\n",
       "    }\n",
       "\n",
       "    .dataframe tbody tr th {\n",
       "        vertical-align: top;\n",
       "    }\n",
       "\n",
       "    .dataframe thead th {\n",
       "        text-align: right;\n",
       "    }\n",
       "</style>\n",
       "<table border=\"1\" class=\"dataframe\">\n",
       "  <thead>\n",
       "    <tr style=\"text-align: right;\">\n",
       "      <th></th>\n",
       "      <th>id</th>\n",
       "      <th>BidPrice</th>\n",
       "      <th>AcceptedBid</th>\n",
       "      <th>ExpectedRevenue</th>\n",
       "      <th>ExpectedConversion</th>\n",
       "      <th>Revenue</th>\n",
       "    </tr>\n",
       "  </thead>\n",
       "  <tbody>\n",
       "    <tr>\n",
       "      <th>0</th>\n",
       "      <td>58995330</td>\n",
       "      <td>NaN</td>\n",
       "      <td>0</td>\n",
       "      <td>-106.80</td>\n",
       "      <td>0.336</td>\n",
       "      <td>-35.88480</td>\n",
       "    </tr>\n",
       "    <tr>\n",
       "      <th>1</th>\n",
       "      <td>58995358</td>\n",
       "      <td>NaN</td>\n",
       "      <td>0</td>\n",
       "      <td>-43.12</td>\n",
       "      <td>0.219</td>\n",
       "      <td>-9.44328</td>\n",
       "    </tr>\n",
       "    <tr>\n",
       "      <th>2</th>\n",
       "      <td>58995397</td>\n",
       "      <td>NaN</td>\n",
       "      <td>0</td>\n",
       "      <td>-90.56</td>\n",
       "      <td>0.332</td>\n",
       "      <td>-30.06592</td>\n",
       "    </tr>\n",
       "    <tr>\n",
       "      <th>3</th>\n",
       "      <td>58995410</td>\n",
       "      <td>NaN</td>\n",
       "      <td>0</td>\n",
       "      <td>-82.08</td>\n",
       "      <td>0.308</td>\n",
       "      <td>-25.28064</td>\n",
       "    </tr>\n",
       "    <tr>\n",
       "      <th>4</th>\n",
       "      <td>58995635</td>\n",
       "      <td>NaN</td>\n",
       "      <td>0</td>\n",
       "      <td>94.88</td>\n",
       "      <td>0.321</td>\n",
       "      <td>30.45648</td>\n",
       "    </tr>\n",
       "  </tbody>\n",
       "</table>\n",
       "</div>"
      ],
      "text/plain": [
       "         id  BidPrice  AcceptedBid  ExpectedRevenue  ExpectedConversion  \\\n",
       "0  58995330       NaN            0          -106.80               0.336   \n",
       "1  58995358       NaN            0           -43.12               0.219   \n",
       "2  58995397       NaN            0           -90.56               0.332   \n",
       "3  58995410       NaN            0           -82.08               0.308   \n",
       "4  58995635       NaN            0            94.88               0.321   \n",
       "\n",
       "    Revenue  \n",
       "0 -35.88480  \n",
       "1  -9.44328  \n",
       "2 -30.06592  \n",
       "3 -25.28064  \n",
       "4  30.45648  "
      ]
     },
     "execution_count": 751,
     "metadata": {},
     "output_type": "execute_result"
    }
   ],
   "source": [
    "# Creating a New data set from Lead_Bid\n",
    "#creating a new column called revenue\n",
    "New_Lead_Bid_With_Null = Lead_Bid.copy()\n",
    "New_Lead_Bid_With_Null['Revenue'] =  New_Lead_Bid_With_Null['ExpectedRevenue']*New_Lead_Bid_With_Null['ExpectedConversion']\n",
    "New_Lead_Bid_With_Null.head()"
   ]
  },
  {
   "cell_type": "code",
   "execution_count": 752,
   "metadata": {},
   "outputs": [],
   "source": [
    "#Creating a New Column New_BidPrice\n",
    "New_Lead_Bid_With_Null['New_BidPrice'] = New_Bid_Price"
   ]
  },
  {
   "cell_type": "code",
   "execution_count": 753,
   "metadata": {},
   "outputs": [
    {
     "data": {
      "text/html": [
       "<div>\n",
       "<style scoped>\n",
       "    .dataframe tbody tr th:only-of-type {\n",
       "        vertical-align: middle;\n",
       "    }\n",
       "\n",
       "    .dataframe tbody tr th {\n",
       "        vertical-align: top;\n",
       "    }\n",
       "\n",
       "    .dataframe thead th {\n",
       "        text-align: right;\n",
       "    }\n",
       "</style>\n",
       "<table border=\"1\" class=\"dataframe\">\n",
       "  <thead>\n",
       "    <tr style=\"text-align: right;\">\n",
       "      <th></th>\n",
       "      <th>id</th>\n",
       "      <th>BidPrice</th>\n",
       "      <th>AcceptedBid</th>\n",
       "      <th>ExpectedRevenue</th>\n",
       "      <th>ExpectedConversion</th>\n",
       "      <th>Revenue</th>\n",
       "      <th>New_BidPrice</th>\n",
       "    </tr>\n",
       "  </thead>\n",
       "  <tbody>\n",
       "    <tr>\n",
       "      <th>0</th>\n",
       "      <td>58995330</td>\n",
       "      <td>NaN</td>\n",
       "      <td>0</td>\n",
       "      <td>-106.80</td>\n",
       "      <td>0.336</td>\n",
       "      <td>-35.88480</td>\n",
       "      <td>0</td>\n",
       "    </tr>\n",
       "    <tr>\n",
       "      <th>1</th>\n",
       "      <td>58995358</td>\n",
       "      <td>NaN</td>\n",
       "      <td>0</td>\n",
       "      <td>-43.12</td>\n",
       "      <td>0.219</td>\n",
       "      <td>-9.44328</td>\n",
       "      <td>0</td>\n",
       "    </tr>\n",
       "    <tr>\n",
       "      <th>2</th>\n",
       "      <td>58995397</td>\n",
       "      <td>NaN</td>\n",
       "      <td>0</td>\n",
       "      <td>-90.56</td>\n",
       "      <td>0.332</td>\n",
       "      <td>-30.06592</td>\n",
       "      <td>0</td>\n",
       "    </tr>\n",
       "    <tr>\n",
       "      <th>3</th>\n",
       "      <td>58995410</td>\n",
       "      <td>NaN</td>\n",
       "      <td>0</td>\n",
       "      <td>-82.08</td>\n",
       "      <td>0.308</td>\n",
       "      <td>-25.28064</td>\n",
       "      <td>0</td>\n",
       "    </tr>\n",
       "    <tr>\n",
       "      <th>4</th>\n",
       "      <td>58995635</td>\n",
       "      <td>NaN</td>\n",
       "      <td>0</td>\n",
       "      <td>94.88</td>\n",
       "      <td>0.321</td>\n",
       "      <td>30.45648</td>\n",
       "      <td>3</td>\n",
       "    </tr>\n",
       "    <tr>\n",
       "      <th>5</th>\n",
       "      <td>58995654</td>\n",
       "      <td>NaN</td>\n",
       "      <td>0</td>\n",
       "      <td>19.68</td>\n",
       "      <td>0.518</td>\n",
       "      <td>10.19424</td>\n",
       "      <td>3</td>\n",
       "    </tr>\n",
       "    <tr>\n",
       "      <th>6</th>\n",
       "      <td>58995685</td>\n",
       "      <td>NaN</td>\n",
       "      <td>0</td>\n",
       "      <td>-59.92</td>\n",
       "      <td>0.403</td>\n",
       "      <td>-24.14776</td>\n",
       "      <td>0</td>\n",
       "    </tr>\n",
       "    <tr>\n",
       "      <th>7</th>\n",
       "      <td>58995772</td>\n",
       "      <td>NaN</td>\n",
       "      <td>0</td>\n",
       "      <td>49.92</td>\n",
       "      <td>0.522</td>\n",
       "      <td>26.05824</td>\n",
       "      <td>3</td>\n",
       "    </tr>\n",
       "    <tr>\n",
       "      <th>8</th>\n",
       "      <td>58995792</td>\n",
       "      <td>35.0</td>\n",
       "      <td>0</td>\n",
       "      <td>360.67</td>\n",
       "      <td>0.086</td>\n",
       "      <td>31.01762</td>\n",
       "      <td>3</td>\n",
       "    </tr>\n",
       "    <tr>\n",
       "      <th>9</th>\n",
       "      <td>58995977</td>\n",
       "      <td>35.0</td>\n",
       "      <td>1</td>\n",
       "      <td>271.49</td>\n",
       "      <td>0.356</td>\n",
       "      <td>96.65044</td>\n",
       "      <td>50</td>\n",
       "    </tr>\n",
       "  </tbody>\n",
       "</table>\n",
       "</div>"
      ],
      "text/plain": [
       "         id  BidPrice  AcceptedBid  ExpectedRevenue  ExpectedConversion  \\\n",
       "0  58995330       NaN            0          -106.80               0.336   \n",
       "1  58995358       NaN            0           -43.12               0.219   \n",
       "2  58995397       NaN            0           -90.56               0.332   \n",
       "3  58995410       NaN            0           -82.08               0.308   \n",
       "4  58995635       NaN            0            94.88               0.321   \n",
       "5  58995654       NaN            0            19.68               0.518   \n",
       "6  58995685       NaN            0           -59.92               0.403   \n",
       "7  58995772       NaN            0            49.92               0.522   \n",
       "8  58995792      35.0            0           360.67               0.086   \n",
       "9  58995977      35.0            1           271.49               0.356   \n",
       "\n",
       "    Revenue  New_BidPrice  \n",
       "0 -35.88480             0  \n",
       "1  -9.44328             0  \n",
       "2 -30.06592             0  \n",
       "3 -25.28064             0  \n",
       "4  30.45648             3  \n",
       "5  10.19424             3  \n",
       "6 -24.14776             0  \n",
       "7  26.05824             3  \n",
       "8  31.01762             3  \n",
       "9  96.65044            50  "
      ]
     },
     "execution_count": 753,
     "metadata": {},
     "output_type": "execute_result"
    }
   ],
   "source": [
    "New_Lead_Bid_With_Null.head(10)"
   ]
  },
  {
   "cell_type": "code",
   "execution_count": 754,
   "metadata": {},
   "outputs": [],
   "source": [
    "Should_Bid = New_Lead_Bid_With_Null['New_BidPrice'] > 0"
   ]
  },
  {
   "cell_type": "code",
   "execution_count": 755,
   "metadata": {},
   "outputs": [
    {
     "data": {
      "text/plain": [
       "id                    33002\n",
       "BidPrice              21940\n",
       "AcceptedBid           33002\n",
       "ExpectedRevenue       33002\n",
       "ExpectedConversion    33002\n",
       "Revenue               33002\n",
       "New_BidPrice          33002\n",
       "dtype: int64"
      ]
     },
     "execution_count": 755,
     "metadata": {},
     "output_type": "execute_result"
    }
   ],
   "source": [
    "New_Lead_Bid_With_Null = New_Lead_Bid_With_Null[Should_Bid]\n",
    "New_Lead_Bid_With_Null.count()"
   ]
  },
  {
   "cell_type": "code",
   "execution_count": 756,
   "metadata": {},
   "outputs": [
    {
     "data": {
      "text/html": [
       "<div>\n",
       "<style scoped>\n",
       "    .dataframe tbody tr th:only-of-type {\n",
       "        vertical-align: middle;\n",
       "    }\n",
       "\n",
       "    .dataframe tbody tr th {\n",
       "        vertical-align: top;\n",
       "    }\n",
       "\n",
       "    .dataframe thead th {\n",
       "        text-align: right;\n",
       "    }\n",
       "</style>\n",
       "<table border=\"1\" class=\"dataframe\">\n",
       "  <thead>\n",
       "    <tr style=\"text-align: right;\">\n",
       "      <th></th>\n",
       "      <th>id</th>\n",
       "      <th>BidPrice</th>\n",
       "      <th>AcceptedBid</th>\n",
       "      <th>ExpectedRevenue</th>\n",
       "      <th>ExpectedConversion</th>\n",
       "      <th>Revenue</th>\n",
       "      <th>New_BidPrice</th>\n",
       "    </tr>\n",
       "  </thead>\n",
       "  <tbody>\n",
       "    <tr>\n",
       "      <th>4</th>\n",
       "      <td>58995635</td>\n",
       "      <td>NaN</td>\n",
       "      <td>0</td>\n",
       "      <td>94.88</td>\n",
       "      <td>0.321</td>\n",
       "      <td>30.45648</td>\n",
       "      <td>3</td>\n",
       "    </tr>\n",
       "    <tr>\n",
       "      <th>5</th>\n",
       "      <td>58995654</td>\n",
       "      <td>NaN</td>\n",
       "      <td>0</td>\n",
       "      <td>19.68</td>\n",
       "      <td>0.518</td>\n",
       "      <td>10.19424</td>\n",
       "      <td>3</td>\n",
       "    </tr>\n",
       "    <tr>\n",
       "      <th>7</th>\n",
       "      <td>58995772</td>\n",
       "      <td>NaN</td>\n",
       "      <td>0</td>\n",
       "      <td>49.92</td>\n",
       "      <td>0.522</td>\n",
       "      <td>26.05824</td>\n",
       "      <td>3</td>\n",
       "    </tr>\n",
       "    <tr>\n",
       "      <th>8</th>\n",
       "      <td>58995792</td>\n",
       "      <td>35.0</td>\n",
       "      <td>0</td>\n",
       "      <td>360.67</td>\n",
       "      <td>0.086</td>\n",
       "      <td>31.01762</td>\n",
       "      <td>3</td>\n",
       "    </tr>\n",
       "    <tr>\n",
       "      <th>9</th>\n",
       "      <td>58995977</td>\n",
       "      <td>35.0</td>\n",
       "      <td>1</td>\n",
       "      <td>271.49</td>\n",
       "      <td>0.356</td>\n",
       "      <td>96.65044</td>\n",
       "      <td>50</td>\n",
       "    </tr>\n",
       "    <tr>\n",
       "      <th>10</th>\n",
       "      <td>58996071</td>\n",
       "      <td>35.0</td>\n",
       "      <td>1</td>\n",
       "      <td>184.64</td>\n",
       "      <td>0.319</td>\n",
       "      <td>58.90016</td>\n",
       "      <td>35</td>\n",
       "    </tr>\n",
       "    <tr>\n",
       "      <th>11</th>\n",
       "      <td>58996117</td>\n",
       "      <td>35.0</td>\n",
       "      <td>0</td>\n",
       "      <td>107.60</td>\n",
       "      <td>0.446</td>\n",
       "      <td>47.98960</td>\n",
       "      <td>3</td>\n",
       "    </tr>\n",
       "    <tr>\n",
       "      <th>12</th>\n",
       "      <td>58996178</td>\n",
       "      <td>35.0</td>\n",
       "      <td>1</td>\n",
       "      <td>82.80</td>\n",
       "      <td>0.463</td>\n",
       "      <td>38.33640</td>\n",
       "      <td>3</td>\n",
       "    </tr>\n",
       "    <tr>\n",
       "      <th>13</th>\n",
       "      <td>58996190</td>\n",
       "      <td>35.0</td>\n",
       "      <td>1</td>\n",
       "      <td>158.96</td>\n",
       "      <td>0.243</td>\n",
       "      <td>38.62728</td>\n",
       "      <td>3</td>\n",
       "    </tr>\n",
       "    <tr>\n",
       "      <th>14</th>\n",
       "      <td>58996194</td>\n",
       "      <td>75.0</td>\n",
       "      <td>1</td>\n",
       "      <td>614.01</td>\n",
       "      <td>0.158</td>\n",
       "      <td>97.01358</td>\n",
       "      <td>50</td>\n",
       "    </tr>\n",
       "  </tbody>\n",
       "</table>\n",
       "</div>"
      ],
      "text/plain": [
       "          id  BidPrice  AcceptedBid  ExpectedRevenue  ExpectedConversion  \\\n",
       "4   58995635       NaN            0            94.88               0.321   \n",
       "5   58995654       NaN            0            19.68               0.518   \n",
       "7   58995772       NaN            0            49.92               0.522   \n",
       "8   58995792      35.0            0           360.67               0.086   \n",
       "9   58995977      35.0            1           271.49               0.356   \n",
       "10  58996071      35.0            1           184.64               0.319   \n",
       "11  58996117      35.0            0           107.60               0.446   \n",
       "12  58996178      35.0            1            82.80               0.463   \n",
       "13  58996190      35.0            1           158.96               0.243   \n",
       "14  58996194      75.0            1           614.01               0.158   \n",
       "\n",
       "     Revenue  New_BidPrice  \n",
       "4   30.45648             3  \n",
       "5   10.19424             3  \n",
       "7   26.05824             3  \n",
       "8   31.01762             3  \n",
       "9   96.65044            50  \n",
       "10  58.90016            35  \n",
       "11  47.98960             3  \n",
       "12  38.33640             3  \n",
       "13  38.62728             3  \n",
       "14  97.01358            50  "
      ]
     },
     "execution_count": 756,
     "metadata": {},
     "output_type": "execute_result"
    }
   ],
   "source": [
    "New_Lead_Bid_With_Null.head(10)"
   ]
  },
  {
   "cell_type": "markdown",
   "metadata": {},
   "source": [
    "# Fitting New Data Frame into our Model and Final Net Revenue"
   ]
  },
  {
   "cell_type": "code",
   "execution_count": 757,
   "metadata": {
    "scrolled": true
   },
   "outputs": [
    {
     "data": {
      "text/html": [
       "<div>\n",
       "<style scoped>\n",
       "    .dataframe tbody tr th:only-of-type {\n",
       "        vertical-align: middle;\n",
       "    }\n",
       "\n",
       "    .dataframe tbody tr th {\n",
       "        vertical-align: top;\n",
       "    }\n",
       "\n",
       "    .dataframe thead th {\n",
       "        text-align: right;\n",
       "    }\n",
       "</style>\n",
       "<table border=\"1\" class=\"dataframe\">\n",
       "  <thead>\n",
       "    <tr style=\"text-align: right;\">\n",
       "      <th></th>\n",
       "      <th>id</th>\n",
       "      <th>BidPrice</th>\n",
       "      <th>AcceptedBid</th>\n",
       "      <th>ExpectedRevenue</th>\n",
       "      <th>ExpectedConversion</th>\n",
       "      <th>Revenue</th>\n",
       "      <th>New_BidPrice</th>\n",
       "    </tr>\n",
       "  </thead>\n",
       "  <tbody>\n",
       "    <tr>\n",
       "      <th>4</th>\n",
       "      <td>58995635</td>\n",
       "      <td>NaN</td>\n",
       "      <td>0</td>\n",
       "      <td>94.88</td>\n",
       "      <td>0.321</td>\n",
       "      <td>30.45648</td>\n",
       "      <td>3</td>\n",
       "    </tr>\n",
       "    <tr>\n",
       "      <th>5</th>\n",
       "      <td>58995654</td>\n",
       "      <td>NaN</td>\n",
       "      <td>0</td>\n",
       "      <td>19.68</td>\n",
       "      <td>0.518</td>\n",
       "      <td>10.19424</td>\n",
       "      <td>3</td>\n",
       "    </tr>\n",
       "    <tr>\n",
       "      <th>7</th>\n",
       "      <td>58995772</td>\n",
       "      <td>NaN</td>\n",
       "      <td>0</td>\n",
       "      <td>49.92</td>\n",
       "      <td>0.522</td>\n",
       "      <td>26.05824</td>\n",
       "      <td>3</td>\n",
       "    </tr>\n",
       "    <tr>\n",
       "      <th>8</th>\n",
       "      <td>58995792</td>\n",
       "      <td>35.0</td>\n",
       "      <td>0</td>\n",
       "      <td>360.67</td>\n",
       "      <td>0.086</td>\n",
       "      <td>31.01762</td>\n",
       "      <td>3</td>\n",
       "    </tr>\n",
       "    <tr>\n",
       "      <th>9</th>\n",
       "      <td>58995977</td>\n",
       "      <td>35.0</td>\n",
       "      <td>1</td>\n",
       "      <td>271.49</td>\n",
       "      <td>0.356</td>\n",
       "      <td>96.65044</td>\n",
       "      <td>50</td>\n",
       "    </tr>\n",
       "  </tbody>\n",
       "</table>\n",
       "</div>"
      ],
      "text/plain": [
       "         id  BidPrice  AcceptedBid  ExpectedRevenue  ExpectedConversion  \\\n",
       "4  58995635       NaN            0            94.88               0.321   \n",
       "5  58995654       NaN            0            19.68               0.518   \n",
       "7  58995772       NaN            0            49.92               0.522   \n",
       "8  58995792      35.0            0           360.67               0.086   \n",
       "9  58995977      35.0            1           271.49               0.356   \n",
       "\n",
       "    Revenue  New_BidPrice  \n",
       "4  30.45648             3  \n",
       "5  10.19424             3  \n",
       "7  26.05824             3  \n",
       "8  31.01762             3  \n",
       "9  96.65044            50  "
      ]
     },
     "execution_count": 757,
     "metadata": {},
     "output_type": "execute_result"
    }
   ],
   "source": [
    "#Creating a copy\n",
    "New_Lead_Bid = New_Lead_Bid_With_Null.copy()\n",
    "New_Lead_Bid.head()"
   ]
  },
  {
   "cell_type": "code",
   "execution_count": 758,
   "metadata": {},
   "outputs": [
    {
     "data": {
      "text/html": [
       "<div>\n",
       "<style scoped>\n",
       "    .dataframe tbody tr th:only-of-type {\n",
       "        vertical-align: middle;\n",
       "    }\n",
       "\n",
       "    .dataframe tbody tr th {\n",
       "        vertical-align: top;\n",
       "    }\n",
       "\n",
       "    .dataframe thead th {\n",
       "        text-align: right;\n",
       "    }\n",
       "</style>\n",
       "<table border=\"1\" class=\"dataframe\">\n",
       "  <thead>\n",
       "    <tr style=\"text-align: right;\">\n",
       "      <th></th>\n",
       "      <th>New_BidPrice</th>\n",
       "      <th>ExpectedRevenue</th>\n",
       "      <th>ExpectedConversion</th>\n",
       "    </tr>\n",
       "  </thead>\n",
       "  <tbody>\n",
       "    <tr>\n",
       "      <th>4</th>\n",
       "      <td>3</td>\n",
       "      <td>94.88</td>\n",
       "      <td>0.321</td>\n",
       "    </tr>\n",
       "    <tr>\n",
       "      <th>5</th>\n",
       "      <td>3</td>\n",
       "      <td>19.68</td>\n",
       "      <td>0.518</td>\n",
       "    </tr>\n",
       "    <tr>\n",
       "      <th>7</th>\n",
       "      <td>3</td>\n",
       "      <td>49.92</td>\n",
       "      <td>0.522</td>\n",
       "    </tr>\n",
       "    <tr>\n",
       "      <th>8</th>\n",
       "      <td>3</td>\n",
       "      <td>360.67</td>\n",
       "      <td>0.086</td>\n",
       "    </tr>\n",
       "    <tr>\n",
       "      <th>9</th>\n",
       "      <td>50</td>\n",
       "      <td>271.49</td>\n",
       "      <td>0.356</td>\n",
       "    </tr>\n",
       "  </tbody>\n",
       "</table>\n",
       "</div>"
      ],
      "text/plain": [
       "   New_BidPrice  ExpectedRevenue  ExpectedConversion\n",
       "4             3            94.88               0.321\n",
       "5             3            19.68               0.518\n",
       "7             3            49.92               0.522\n",
       "8             3           360.67               0.086\n",
       "9            50           271.49               0.356"
      ]
     },
     "execution_count": 758,
     "metadata": {},
     "output_type": "execute_result"
    }
   ],
   "source": [
    "#Making it model ready\n",
    "\n",
    "New_Lead_Bid =New_Lead_Bid[['New_BidPrice','ExpectedRevenue','ExpectedConversion']]\n",
    "New_Lead_Bid.head()"
   ]
  },
  {
   "cell_type": "code",
   "execution_count": 759,
   "metadata": {},
   "outputs": [
    {
     "name": "stdout",
     "output_type": "stream",
     "text": [
      "[[-1.03372574 -0.8548243  -0.11072334]\n",
      " [-1.03372574 -1.26924778  1.50073481]\n",
      " [-1.03372574 -1.10259663  1.53345477]\n",
      " ...\n",
      " [ 0.12953736 -0.15603577 -0.72422264]\n",
      " [ 1.58361623  1.58729832 -0.30704312]\n",
      " [-1.03372574 -1.22604193  1.14899521]]\n"
     ]
    }
   ],
   "source": [
    "#standardization\n",
    "New_Lead_bid_Array = sc_x.fit_transform(New_Lead_Bid)\n",
    "print(New_Lead_bid_Array)"
   ]
  },
  {
   "cell_type": "code",
   "execution_count": 760,
   "metadata": {},
   "outputs": [],
   "source": [
    "#predicting the output with our Neural network that we used above\n",
    "#Neural network was found to be the best classification algorithm compared to others dues to its high precission,accuracy,recall,Train scores\n",
    "y_pred_NN_Dataset = classifier_NN.predict(New_Lead_bid_Array)"
   ]
  },
  {
   "cell_type": "code",
   "execution_count": 761,
   "metadata": {},
   "outputs": [],
   "source": [
    "#Adding a new column Called New_Accepted_Bid which is the predicted values from the neural network\n",
    "New_Lead_Bid_With_Null[\"New_Accepted_Bid\"] = y_pred_NN_Dataset"
   ]
  },
  {
   "cell_type": "code",
   "execution_count": 762,
   "metadata": {},
   "outputs": [
    {
     "data": {
      "text/html": [
       "<div>\n",
       "<style scoped>\n",
       "    .dataframe tbody tr th:only-of-type {\n",
       "        vertical-align: middle;\n",
       "    }\n",
       "\n",
       "    .dataframe tbody tr th {\n",
       "        vertical-align: top;\n",
       "    }\n",
       "\n",
       "    .dataframe thead th {\n",
       "        text-align: right;\n",
       "    }\n",
       "</style>\n",
       "<table border=\"1\" class=\"dataframe\">\n",
       "  <thead>\n",
       "    <tr style=\"text-align: right;\">\n",
       "      <th></th>\n",
       "      <th>id</th>\n",
       "      <th>BidPrice</th>\n",
       "      <th>AcceptedBid</th>\n",
       "      <th>ExpectedRevenue</th>\n",
       "      <th>ExpectedConversion</th>\n",
       "      <th>Revenue</th>\n",
       "      <th>New_BidPrice</th>\n",
       "      <th>New_Accepted_Bid</th>\n",
       "    </tr>\n",
       "  </thead>\n",
       "  <tbody>\n",
       "    <tr>\n",
       "      <th>4</th>\n",
       "      <td>58995635</td>\n",
       "      <td>NaN</td>\n",
       "      <td>0</td>\n",
       "      <td>94.88</td>\n",
       "      <td>0.321</td>\n",
       "      <td>30.45648</td>\n",
       "      <td>3</td>\n",
       "      <td>1</td>\n",
       "    </tr>\n",
       "    <tr>\n",
       "      <th>5</th>\n",
       "      <td>58995654</td>\n",
       "      <td>NaN</td>\n",
       "      <td>0</td>\n",
       "      <td>19.68</td>\n",
       "      <td>0.518</td>\n",
       "      <td>10.19424</td>\n",
       "      <td>3</td>\n",
       "      <td>1</td>\n",
       "    </tr>\n",
       "    <tr>\n",
       "      <th>7</th>\n",
       "      <td>58995772</td>\n",
       "      <td>NaN</td>\n",
       "      <td>0</td>\n",
       "      <td>49.92</td>\n",
       "      <td>0.522</td>\n",
       "      <td>26.05824</td>\n",
       "      <td>3</td>\n",
       "      <td>1</td>\n",
       "    </tr>\n",
       "    <tr>\n",
       "      <th>8</th>\n",
       "      <td>58995792</td>\n",
       "      <td>35.0</td>\n",
       "      <td>0</td>\n",
       "      <td>360.67</td>\n",
       "      <td>0.086</td>\n",
       "      <td>31.01762</td>\n",
       "      <td>3</td>\n",
       "      <td>0</td>\n",
       "    </tr>\n",
       "    <tr>\n",
       "      <th>9</th>\n",
       "      <td>58995977</td>\n",
       "      <td>35.0</td>\n",
       "      <td>1</td>\n",
       "      <td>271.49</td>\n",
       "      <td>0.356</td>\n",
       "      <td>96.65044</td>\n",
       "      <td>50</td>\n",
       "      <td>1</td>\n",
       "    </tr>\n",
       "  </tbody>\n",
       "</table>\n",
       "</div>"
      ],
      "text/plain": [
       "         id  BidPrice  AcceptedBid  ExpectedRevenue  ExpectedConversion  \\\n",
       "4  58995635       NaN            0            94.88               0.321   \n",
       "5  58995654       NaN            0            19.68               0.518   \n",
       "7  58995772       NaN            0            49.92               0.522   \n",
       "8  58995792      35.0            0           360.67               0.086   \n",
       "9  58995977      35.0            1           271.49               0.356   \n",
       "\n",
       "    Revenue  New_BidPrice  New_Accepted_Bid  \n",
       "4  30.45648             3                 1  \n",
       "5  10.19424             3                 1  \n",
       "7  26.05824             3                 1  \n",
       "8  31.01762             3                 0  \n",
       "9  96.65044            50                 1  "
      ]
     },
     "execution_count": 762,
     "metadata": {},
     "output_type": "execute_result"
    }
   ],
   "source": [
    "New_Lead_Bid_With_Null.head()"
   ]
  },
  {
   "cell_type": "code",
   "execution_count": 763,
   "metadata": {},
   "outputs": [],
   "source": [
    "#droping the old BidPrice And Accepted Bid\n",
    "New_Lead_Bid_With_Null = New_Lead_Bid_With_Null.drop(['BidPrice','AcceptedBid'], axis =1)"
   ]
  },
  {
   "cell_type": "code",
   "execution_count": 764,
   "metadata": {},
   "outputs": [
    {
     "data": {
      "text/html": [
       "<div>\n",
       "<style scoped>\n",
       "    .dataframe tbody tr th:only-of-type {\n",
       "        vertical-align: middle;\n",
       "    }\n",
       "\n",
       "    .dataframe tbody tr th {\n",
       "        vertical-align: top;\n",
       "    }\n",
       "\n",
       "    .dataframe thead th {\n",
       "        text-align: right;\n",
       "    }\n",
       "</style>\n",
       "<table border=\"1\" class=\"dataframe\">\n",
       "  <thead>\n",
       "    <tr style=\"text-align: right;\">\n",
       "      <th></th>\n",
       "      <th>id</th>\n",
       "      <th>ExpectedRevenue</th>\n",
       "      <th>ExpectedConversion</th>\n",
       "      <th>Revenue</th>\n",
       "      <th>New_BidPrice</th>\n",
       "      <th>New_Accepted_Bid</th>\n",
       "    </tr>\n",
       "  </thead>\n",
       "  <tbody>\n",
       "    <tr>\n",
       "      <th>4</th>\n",
       "      <td>58995635</td>\n",
       "      <td>94.88</td>\n",
       "      <td>0.321</td>\n",
       "      <td>30.45648</td>\n",
       "      <td>3</td>\n",
       "      <td>1</td>\n",
       "    </tr>\n",
       "    <tr>\n",
       "      <th>5</th>\n",
       "      <td>58995654</td>\n",
       "      <td>19.68</td>\n",
       "      <td>0.518</td>\n",
       "      <td>10.19424</td>\n",
       "      <td>3</td>\n",
       "      <td>1</td>\n",
       "    </tr>\n",
       "    <tr>\n",
       "      <th>7</th>\n",
       "      <td>58995772</td>\n",
       "      <td>49.92</td>\n",
       "      <td>0.522</td>\n",
       "      <td>26.05824</td>\n",
       "      <td>3</td>\n",
       "      <td>1</td>\n",
       "    </tr>\n",
       "    <tr>\n",
       "      <th>8</th>\n",
       "      <td>58995792</td>\n",
       "      <td>360.67</td>\n",
       "      <td>0.086</td>\n",
       "      <td>31.01762</td>\n",
       "      <td>3</td>\n",
       "      <td>0</td>\n",
       "    </tr>\n",
       "    <tr>\n",
       "      <th>9</th>\n",
       "      <td>58995977</td>\n",
       "      <td>271.49</td>\n",
       "      <td>0.356</td>\n",
       "      <td>96.65044</td>\n",
       "      <td>50</td>\n",
       "      <td>1</td>\n",
       "    </tr>\n",
       "  </tbody>\n",
       "</table>\n",
       "</div>"
      ],
      "text/plain": [
       "         id  ExpectedRevenue  ExpectedConversion   Revenue  New_BidPrice  \\\n",
       "4  58995635            94.88               0.321  30.45648             3   \n",
       "5  58995654            19.68               0.518  10.19424             3   \n",
       "7  58995772            49.92               0.522  26.05824             3   \n",
       "8  58995792           360.67               0.086  31.01762             3   \n",
       "9  58995977           271.49               0.356  96.65044            50   \n",
       "\n",
       "   New_Accepted_Bid  \n",
       "4                 1  \n",
       "5                 1  \n",
       "7                 1  \n",
       "8                 0  \n",
       "9                 1  "
      ]
     },
     "execution_count": 764,
     "metadata": {},
     "output_type": "execute_result"
    }
   ],
   "source": [
    "New_Lead_Bid_With_Null.head()"
   ]
  },
  {
   "cell_type": "code",
   "execution_count": 765,
   "metadata": {},
   "outputs": [],
   "source": [
    "#Creating an other Column for generating Net_revenue\n",
    "New_Lead_Bid_With_Null[\"New_Net_revenue\"] = (New_Lead_Bid_With_Null['Revenue']-New_Lead_Bid_With_Null['New_BidPrice'])*New_Lead_Bid_With_Null['New_Accepted_Bid']"
   ]
  },
  {
   "cell_type": "code",
   "execution_count": 766,
   "metadata": {},
   "outputs": [
    {
     "data": {
      "text/html": [
       "<div>\n",
       "<style scoped>\n",
       "    .dataframe tbody tr th:only-of-type {\n",
       "        vertical-align: middle;\n",
       "    }\n",
       "\n",
       "    .dataframe tbody tr th {\n",
       "        vertical-align: top;\n",
       "    }\n",
       "\n",
       "    .dataframe thead th {\n",
       "        text-align: right;\n",
       "    }\n",
       "</style>\n",
       "<table border=\"1\" class=\"dataframe\">\n",
       "  <thead>\n",
       "    <tr style=\"text-align: right;\">\n",
       "      <th></th>\n",
       "      <th>id</th>\n",
       "      <th>ExpectedRevenue</th>\n",
       "      <th>ExpectedConversion</th>\n",
       "      <th>Revenue</th>\n",
       "      <th>New_BidPrice</th>\n",
       "      <th>New_Accepted_Bid</th>\n",
       "      <th>New_Net_revenue</th>\n",
       "    </tr>\n",
       "  </thead>\n",
       "  <tbody>\n",
       "    <tr>\n",
       "      <th>4</th>\n",
       "      <td>58995635</td>\n",
       "      <td>94.88</td>\n",
       "      <td>0.321</td>\n",
       "      <td>30.45648</td>\n",
       "      <td>3</td>\n",
       "      <td>1</td>\n",
       "      <td>27.45648</td>\n",
       "    </tr>\n",
       "    <tr>\n",
       "      <th>5</th>\n",
       "      <td>58995654</td>\n",
       "      <td>19.68</td>\n",
       "      <td>0.518</td>\n",
       "      <td>10.19424</td>\n",
       "      <td>3</td>\n",
       "      <td>1</td>\n",
       "      <td>7.19424</td>\n",
       "    </tr>\n",
       "    <tr>\n",
       "      <th>7</th>\n",
       "      <td>58995772</td>\n",
       "      <td>49.92</td>\n",
       "      <td>0.522</td>\n",
       "      <td>26.05824</td>\n",
       "      <td>3</td>\n",
       "      <td>1</td>\n",
       "      <td>23.05824</td>\n",
       "    </tr>\n",
       "    <tr>\n",
       "      <th>8</th>\n",
       "      <td>58995792</td>\n",
       "      <td>360.67</td>\n",
       "      <td>0.086</td>\n",
       "      <td>31.01762</td>\n",
       "      <td>3</td>\n",
       "      <td>0</td>\n",
       "      <td>0.00000</td>\n",
       "    </tr>\n",
       "    <tr>\n",
       "      <th>9</th>\n",
       "      <td>58995977</td>\n",
       "      <td>271.49</td>\n",
       "      <td>0.356</td>\n",
       "      <td>96.65044</td>\n",
       "      <td>50</td>\n",
       "      <td>1</td>\n",
       "      <td>46.65044</td>\n",
       "    </tr>\n",
       "  </tbody>\n",
       "</table>\n",
       "</div>"
      ],
      "text/plain": [
       "         id  ExpectedRevenue  ExpectedConversion   Revenue  New_BidPrice  \\\n",
       "4  58995635            94.88               0.321  30.45648             3   \n",
       "5  58995654            19.68               0.518  10.19424             3   \n",
       "7  58995772            49.92               0.522  26.05824             3   \n",
       "8  58995792           360.67               0.086  31.01762             3   \n",
       "9  58995977           271.49               0.356  96.65044            50   \n",
       "\n",
       "   New_Accepted_Bid  New_Net_revenue  \n",
       "4                 1         27.45648  \n",
       "5                 1          7.19424  \n",
       "7                 1         23.05824  \n",
       "8                 0          0.00000  \n",
       "9                 1         46.65044  "
      ]
     },
     "execution_count": 766,
     "metadata": {},
     "output_type": "execute_result"
    }
   ],
   "source": [
    "New_Lead_Bid_With_Null.head()"
   ]
  },
  {
   "cell_type": "code",
   "execution_count": 767,
   "metadata": {},
   "outputs": [],
   "source": [
    "#Considering only bids that were Accepted\n",
    "No_of_positive_lead = New_Lead_Bid_With_Null.copy()\n",
    "Positive = No_of_positive_lead['New_Accepted_Bid']==1\n",
    "No_of_positive_lead=No_of_positive_lead[Positive]"
   ]
  },
  {
   "cell_type": "code",
   "execution_count": 768,
   "metadata": {},
   "outputs": [
    {
     "data": {
      "text/plain": [
       "25367"
      ]
     },
     "execution_count": 768,
     "metadata": {},
     "output_type": "execute_result"
    }
   ],
   "source": [
    "No_of_positive_lead[\"New_Net_revenue\"].count()"
   ]
  },
  {
   "cell_type": "code",
   "execution_count": 769,
   "metadata": {},
   "outputs": [],
   "source": [
    "# Arranging the data set into by the decreasing order of New_Net_revenue\n",
    "No_of_positive_lead.sort_values(by=['New_Net_revenue'], inplace=True, ascending=False)"
   ]
  },
  {
   "cell_type": "code",
   "execution_count": 770,
   "metadata": {},
   "outputs": [
    {
     "data": {
      "text/html": [
       "<div>\n",
       "<style scoped>\n",
       "    .dataframe tbody tr th:only-of-type {\n",
       "        vertical-align: middle;\n",
       "    }\n",
       "\n",
       "    .dataframe tbody tr th {\n",
       "        vertical-align: top;\n",
       "    }\n",
       "\n",
       "    .dataframe thead th {\n",
       "        text-align: right;\n",
       "    }\n",
       "</style>\n",
       "<table border=\"1\" class=\"dataframe\">\n",
       "  <thead>\n",
       "    <tr style=\"text-align: right;\">\n",
       "      <th></th>\n",
       "      <th>id</th>\n",
       "      <th>ExpectedRevenue</th>\n",
       "      <th>ExpectedConversion</th>\n",
       "      <th>Revenue</th>\n",
       "      <th>New_BidPrice</th>\n",
       "      <th>New_Accepted_Bid</th>\n",
       "      <th>New_Net_revenue</th>\n",
       "    </tr>\n",
       "  </thead>\n",
       "  <tbody>\n",
       "    <tr>\n",
       "      <th>9324</th>\n",
       "      <td>59596614</td>\n",
       "      <td>818.42</td>\n",
       "      <td>0.838</td>\n",
       "      <td>685.83596</td>\n",
       "      <td>75</td>\n",
       "      <td>1</td>\n",
       "      <td>610.83596</td>\n",
       "    </tr>\n",
       "    <tr>\n",
       "      <th>28198</th>\n",
       "      <td>61186573</td>\n",
       "      <td>796.36</td>\n",
       "      <td>0.825</td>\n",
       "      <td>656.99700</td>\n",
       "      <td>75</td>\n",
       "      <td>1</td>\n",
       "      <td>581.99700</td>\n",
       "    </tr>\n",
       "    <tr>\n",
       "      <th>34032</th>\n",
       "      <td>61664218</td>\n",
       "      <td>741.40</td>\n",
       "      <td>0.872</td>\n",
       "      <td>646.50080</td>\n",
       "      <td>75</td>\n",
       "      <td>1</td>\n",
       "      <td>571.50080</td>\n",
       "    </tr>\n",
       "    <tr>\n",
       "      <th>28652</th>\n",
       "      <td>61224299</td>\n",
       "      <td>820.00</td>\n",
       "      <td>0.756</td>\n",
       "      <td>619.92000</td>\n",
       "      <td>75</td>\n",
       "      <td>1</td>\n",
       "      <td>544.92000</td>\n",
       "    </tr>\n",
       "    <tr>\n",
       "      <th>47475</th>\n",
       "      <td>62545122</td>\n",
       "      <td>695.25</td>\n",
       "      <td>0.843</td>\n",
       "      <td>586.09575</td>\n",
       "      <td>75</td>\n",
       "      <td>1</td>\n",
       "      <td>511.09575</td>\n",
       "    </tr>\n",
       "    <tr>\n",
       "      <th>17198</th>\n",
       "      <td>60153355</td>\n",
       "      <td>820.00</td>\n",
       "      <td>0.700</td>\n",
       "      <td>574.00000</td>\n",
       "      <td>75</td>\n",
       "      <td>1</td>\n",
       "      <td>499.00000</td>\n",
       "    </tr>\n",
       "    <tr>\n",
       "      <th>5476</th>\n",
       "      <td>59398107</td>\n",
       "      <td>613.61</td>\n",
       "      <td>0.871</td>\n",
       "      <td>534.45431</td>\n",
       "      <td>75</td>\n",
       "      <td>1</td>\n",
       "      <td>459.45431</td>\n",
       "    </tr>\n",
       "    <tr>\n",
       "      <th>28616</th>\n",
       "      <td>61222001</td>\n",
       "      <td>764.73</td>\n",
       "      <td>0.687</td>\n",
       "      <td>525.36951</td>\n",
       "      <td>75</td>\n",
       "      <td>1</td>\n",
       "      <td>450.36951</td>\n",
       "    </tr>\n",
       "    <tr>\n",
       "      <th>29025</th>\n",
       "      <td>61253308</td>\n",
       "      <td>719.49</td>\n",
       "      <td>0.730</td>\n",
       "      <td>525.22770</td>\n",
       "      <td>75</td>\n",
       "      <td>1</td>\n",
       "      <td>450.22770</td>\n",
       "    </tr>\n",
       "    <tr>\n",
       "      <th>11262</th>\n",
       "      <td>59679959</td>\n",
       "      <td>809.54</td>\n",
       "      <td>0.644</td>\n",
       "      <td>521.34376</td>\n",
       "      <td>75</td>\n",
       "      <td>1</td>\n",
       "      <td>446.34376</td>\n",
       "    </tr>\n",
       "  </tbody>\n",
       "</table>\n",
       "</div>"
      ],
      "text/plain": [
       "             id  ExpectedRevenue  ExpectedConversion    Revenue  New_BidPrice  \\\n",
       "9324   59596614           818.42               0.838  685.83596            75   \n",
       "28198  61186573           796.36               0.825  656.99700            75   \n",
       "34032  61664218           741.40               0.872  646.50080            75   \n",
       "28652  61224299           820.00               0.756  619.92000            75   \n",
       "47475  62545122           695.25               0.843  586.09575            75   \n",
       "17198  60153355           820.00               0.700  574.00000            75   \n",
       "5476   59398107           613.61               0.871  534.45431            75   \n",
       "28616  61222001           764.73               0.687  525.36951            75   \n",
       "29025  61253308           719.49               0.730  525.22770            75   \n",
       "11262  59679959           809.54               0.644  521.34376            75   \n",
       "\n",
       "       New_Accepted_Bid  New_Net_revenue  \n",
       "9324                  1        610.83596  \n",
       "28198                 1        581.99700  \n",
       "34032                 1        571.50080  \n",
       "28652                 1        544.92000  \n",
       "47475                 1        511.09575  \n",
       "17198                 1        499.00000  \n",
       "5476                  1        459.45431  \n",
       "28616                 1        450.36951  \n",
       "29025                 1        450.22770  \n",
       "11262                 1        446.34376  "
      ]
     },
     "execution_count": 770,
     "metadata": {},
     "output_type": "execute_result"
    }
   ],
   "source": [
    "No_of_positive_lead.head(10)"
   ]
  },
  {
   "cell_type": "code",
   "execution_count": 771,
   "metadata": {},
   "outputs": [],
   "source": [
    "#Since the Call Center Can handle only a perticular number of leads, filtering the data set to 16827 rows\n",
    "No_of_positive_lead=No_of_positive_lead[:16827]"
   ]
  },
  {
   "cell_type": "code",
   "execution_count": 772,
   "metadata": {},
   "outputs": [
    {
     "data": {
      "text/plain": [
       "1291814.1478700002"
      ]
     },
     "execution_count": 772,
     "metadata": {},
     "output_type": "execute_result"
    }
   ],
   "source": [
    "#final Total net revenue\n",
    "No_of_positive_lead[\"New_Net_revenue\"].sum()"
   ]
  },
  {
   "cell_type": "code",
   "execution_count": null,
   "metadata": {},
   "outputs": [],
   "source": []
  }
 ],
 "metadata": {
  "kernelspec": {
   "display_name": "Python 3",
   "language": "python",
   "name": "python3"
  },
  "language_info": {
   "codemirror_mode": {
    "name": "ipython",
    "version": 3
   },
   "file_extension": ".py",
   "mimetype": "text/x-python",
   "name": "python",
   "nbconvert_exporter": "python",
   "pygments_lexer": "ipython3",
   "version": "3.8.5"
  }
 },
 "nbformat": 4,
 "nbformat_minor": 2
}
